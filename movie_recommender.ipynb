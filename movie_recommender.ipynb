{
  "cells": [
    {
      "cell_type": "markdown",
      "id": "e08d5ecd",
      "metadata": {
        "id": "e08d5ecd"
      },
      "source": [
        "# Import libraries and datasets"
      ]
    },
    {
      "cell_type": "code",
      "execution_count": 1,
      "id": "7847b5bf",
      "metadata": {
        "id": "7847b5bf"
      },
      "outputs": [],
      "source": [
        "# %%capture\n",
        "# !pip install surprise\n",
        "# !pip install pandas\n",
        "\n",
        "# !pip install scikit-surprise"
      ]
    },
    {
      "cell_type": "code",
      "execution_count": 2,
      "id": "e9a55fd8",
      "metadata": {
        "id": "e9a55fd8"
      },
      "outputs": [],
      "source": [
        "# %%capture\n",
        "# !pip install surprise\n",
        "# !pip install pandas\n",
        "# !pip install scikit-surprise\n",
        "# !pip install scikit-learn\n",
        "# !pip install matplotlib\n",
        "# !pip install seaborn\n",
        "# !pip install plotly"
      ]
    },
    {
      "cell_type": "code",
      "execution_count": 3,
      "id": "hYNtScAyQm_V",
      "metadata": {
        "colab": {
          "background_save": true,
          "base_uri": "https://localhost:8080/"
        },
        "id": "hYNtScAyQm_V",
        "outputId": "fbc19040-2033-4274-9918-c1b772c7679f"
      },
      "outputs": [
        {
          "name": "stdout",
          "output_type": "stream",
          "text": [
            "Collecting scikit-surprise\n",
            "  Using cached scikit-surprise-1.1.3.tar.gz (771 kB)\n",
            "  Installing build dependencies: started\n",
            "  Installing build dependencies: finished with status 'done'\n",
            "  Getting requirements to build wheel: started\n",
            "  Getting requirements to build wheel: finished with status 'error'\n"
          ]
        },
        {
          "name": "stderr",
          "output_type": "stream",
          "text": [
            "  error: subprocess-exited-with-error\n",
            "  \n",
            "  × Getting requirements to build wheel did not run successfully.\n",
            "  │ exit code: 1\n",
            "  ╰─> [60 lines of output]\n",
            "      <string>:65: _DeprecatedInstaller: setuptools.installer and fetch_build_eggs are deprecated.\n",
            "      !!\n",
            "      \n",
            "              ********************************************************************************\n",
            "              Requirements should be satisfied by a PEP 517 installer.\n",
            "              If you are using pip, you can try `pip install --use-pep517`.\n",
            "              ********************************************************************************\n",
            "      \n",
            "      !!\n",
            "      WARNING: The wheel package is not available.\n",
            "      C:\\Users\\Acer\\AppData\\Local\\Programs\\Python\\Python311\\python.exe: No module named pip\n",
            "      Traceback (most recent call last):\n",
            "        File \"C:\\Users\\Acer\\AppData\\Local\\Temp\\pip-build-env-5is_p9xj\\overlay\\Lib\\site-packages\\setuptools\\installer.py\", line 101, in _fetch_build_egg_no_warn\n",
            "          subprocess.check_call(cmd)\n",
            "        File \"C:\\Users\\Acer\\AppData\\Local\\Programs\\Python\\Python311\\Lib\\subprocess.py\", line 413, in check_call\n",
            "          raise CalledProcessError(retcode, cmd)\n",
            "      subprocess.CalledProcessError: Command '['C:\\\\Users\\\\Acer\\\\AppData\\\\Local\\\\Programs\\\\Python\\\\Python311\\\\python.exe', '-m', 'pip', '--disable-pip-version-check', 'wheel', '--no-deps', '-w', 'C:\\\\Users\\\\Acer\\\\AppData\\\\Local\\\\Temp\\\\tmpsz41ctku', '--quiet', 'numpy>=1.17.3']' returned non-zero exit status 1.\n",
            "      \n",
            "      The above exception was the direct cause of the following exception:\n",
            "      \n",
            "      Traceback (most recent call last):\n",
            "        File \"C:\\Users\\Acer\\AppData\\Local\\Programs\\Python\\Python311\\Lib\\site-packages\\pip\\_vendor\\pyproject_hooks\\_in_process\\_in_process.py\", line 353, in <module>\n",
            "          main()\n",
            "        File \"C:\\Users\\Acer\\AppData\\Local\\Programs\\Python\\Python311\\Lib\\site-packages\\pip\\_vendor\\pyproject_hooks\\_in_process\\_in_process.py\", line 335, in main\n",
            "          json_out['return_val'] = hook(**hook_input['kwargs'])\n",
            "                                   ^^^^^^^^^^^^^^^^^^^^^^^^^^^^\n",
            "        File \"C:\\Users\\Acer\\AppData\\Local\\Programs\\Python\\Python311\\Lib\\site-packages\\pip\\_vendor\\pyproject_hooks\\_in_process\\_in_process.py\", line 118, in get_requires_for_build_wheel\n",
            "          return hook(config_settings)\n",
            "                 ^^^^^^^^^^^^^^^^^^^^^\n",
            "        File \"C:\\Users\\Acer\\AppData\\Local\\Temp\\pip-build-env-5is_p9xj\\overlay\\Lib\\site-packages\\setuptools\\build_meta.py\", line 325, in get_requires_for_build_wheel\n",
            "          return self._get_build_requires(config_settings, requirements=['wheel'])\n",
            "                 ^^^^^^^^^^^^^^^^^^^^^^^^^^^^^^^^^^^^^^^^^^^^^^^^^^^^^^^^^^^^^^^^^\n",
            "        File \"C:\\Users\\Acer\\AppData\\Local\\Temp\\pip-build-env-5is_p9xj\\overlay\\Lib\\site-packages\\setuptools\\build_meta.py\", line 295, in _get_build_requires\n",
            "          self.run_setup()\n",
            "        File \"C:\\Users\\Acer\\AppData\\Local\\Temp\\pip-build-env-5is_p9xj\\overlay\\Lib\\site-packages\\setuptools\\build_meta.py\", line 487, in run_setup\n",
            "          super().run_setup(setup_script=setup_script)\n",
            "        File \"C:\\Users\\Acer\\AppData\\Local\\Temp\\pip-build-env-5is_p9xj\\overlay\\Lib\\site-packages\\setuptools\\build_meta.py\", line 311, in run_setup\n",
            "          exec(code, locals())\n",
            "        File \"<string>\", line 65, in <module>\n",
            "        File \"C:\\Users\\Acer\\AppData\\Local\\Temp\\pip-build-env-5is_p9xj\\overlay\\Lib\\site-packages\\setuptools\\dist.py\", line 640, in fetch_build_eggs\n",
            "          return _fetch_build_eggs(self, requires)\n",
            "                 ^^^^^^^^^^^^^^^^^^^^^^^^^^^^^^^^^\n",
            "        File \"C:\\Users\\Acer\\AppData\\Local\\Temp\\pip-build-env-5is_p9xj\\overlay\\Lib\\site-packages\\setuptools\\installer.py\", line 38, in _fetch_build_eggs\n",
            "          resolved_dists = pkg_resources.working_set.resolve(\n",
            "                           ^^^^^^^^^^^^^^^^^^^^^^^^^^^^^^^^^^\n",
            "        File \"C:\\Users\\Acer\\AppData\\Local\\Temp\\pip-build-env-5is_p9xj\\overlay\\Lib\\site-packages\\pkg_resources\\__init__.py\", line 798, in resolve\n",
            "          dist = self._resolve_dist(\n",
            "                 ^^^^^^^^^^^^^^^^^^^\n",
            "        File \"C:\\Users\\Acer\\AppData\\Local\\Temp\\pip-build-env-5is_p9xj\\overlay\\Lib\\site-packages\\pkg_resources\\__init__.py\", line 834, in _resolve_dist\n",
            "          dist = best[req.key] = env.best_match(\n",
            "                                 ^^^^^^^^^^^^^^^\n",
            "        File \"C:\\Users\\Acer\\AppData\\Local\\Temp\\pip-build-env-5is_p9xj\\overlay\\Lib\\site-packages\\pkg_resources\\__init__.py\", line 1104, in best_match\n",
            "          return self.obtain(req, installer)\n",
            "                 ^^^^^^^^^^^^^^^^^^^^^^^^^^^\n",
            "        File \"C:\\Users\\Acer\\AppData\\Local\\Temp\\pip-build-env-5is_p9xj\\overlay\\Lib\\site-packages\\pkg_resources\\__init__.py\", line 1115, in obtain\n",
            "          return installer(requirement) if installer else None\n",
            "                 ^^^^^^^^^^^^^^^^^^^^^^\n",
            "        File \"C:\\Users\\Acer\\AppData\\Local\\Temp\\pip-build-env-5is_p9xj\\overlay\\Lib\\site-packages\\setuptools\\installer.py\", line 103, in _fetch_build_egg_no_warn\n",
            "          raise DistutilsError(str(e)) from e\n",
            "      distutils.errors.DistutilsError: Command '['C:\\\\Users\\\\Acer\\\\AppData\\\\Local\\\\Programs\\\\Python\\\\Python311\\\\python.exe', '-m', 'pip', '--disable-pip-version-check', 'wheel', '--no-deps', '-w', 'C:\\\\Users\\\\Acer\\\\AppData\\\\Local\\\\Temp\\\\tmpsz41ctku', '--quiet', 'numpy>=1.17.3']' returned non-zero exit status 1.\n",
            "      [end of output]\n",
            "  \n",
            "  note: This error originates from a subprocess, and is likely not a problem with pip.\n",
            "error: subprocess-exited-with-error\n",
            "\n",
            "× Getting requirements to build wheel did not run successfully.\n",
            "│ exit code: 1\n",
            "╰─> See above for output.\n",
            "\n",
            "note: This error originates from a subprocess, and is likely not a problem with pip.\n"
          ]
        },
        {
          "name": "stdout",
          "output_type": "stream",
          "text": [
            "Requirement already satisfied: pandas in c:\\users\\acer\\appdata\\local\\programs\\python\\python311\\lib\\site-packages (2.1.1)\n",
            "Requirement already satisfied: numpy>=1.23.2 in c:\\users\\acer\\appdata\\local\\programs\\python\\python311\\lib\\site-packages (from pandas) (1.24.2)\n",
            "Requirement already satisfied: python-dateutil>=2.8.2 in c:\\users\\acer\\appdata\\roaming\\python\\python311\\site-packages (from pandas) (2.8.2)\n",
            "Requirement already satisfied: pytz>=2020.1 in c:\\users\\acer\\appdata\\local\\programs\\python\\python311\\lib\\site-packages (from pandas) (2023.3.post1)\n",
            "Requirement already satisfied: tzdata>=2022.1 in c:\\users\\acer\\appdata\\local\\programs\\python\\python311\\lib\\site-packages (from pandas) (2023.3)\n",
            "Requirement already satisfied: six>=1.5 in c:\\users\\acer\\appdata\\roaming\\python\\python311\\site-packages (from python-dateutil>=2.8.2->pandas) (1.16.0)\n"
          ]
        }
      ],
      "source": [
        "# Install the required packages\n",
        "!pip install scikit-surprise\n",
        "!pip install pandas\n",
        "\n",
        "# Import the necessary modules\n"
      ]
    },
    {
      "cell_type": "markdown",
      "id": "aZbP2BJBQkVt",
      "metadata": {
        "id": "aZbP2BJBQkVt"
      },
      "source": []
    },
    {
      "cell_type": "code",
      "execution_count": 4,
      "id": "16fe058b",
      "metadata": {
        "colab": {
          "base_uri": "https://localhost:8080/",
          "height": 384
        },
        "id": "16fe058b",
        "outputId": "fb828a65-e6f7-4725-f026-99f2be99c281"
      },
      "outputs": [],
      "source": [
        "# Packages for data processing\n",
        "import numpy as np\n",
        "import pandas as pd\n",
        "import datetime\n",
        "# import surprise\n",
        "from sklearn import preprocessing\n",
        "from sklearn.datasets import make_blobs\n",
        "from sklearn.preprocessing import StandardScaler\n",
        "from sklearn.feature_extraction.text import TfidfVectorizer\n",
        "from sklearn.metrics.pairwise import cosine_similarity\n",
        "import re\n",
        "from scipy.sparse import csr_matrix\n",
        "import scipy as sp\n",
        "\n",
        "\n",
        "# Packages for visualization\n",
        "import matplotlib.pyplot as plt\n",
        "import seaborn as sns\n",
        "import plotly.graph_objs as go\n",
        "from plotly.offline import init_notebook_mode, plot, iplot\n",
        "%matplotlib inline\n",
        "\n",
        "# Packages for modeling\n",
        "# from surprise import Reader\n",
        "# from surprise import Dataset\n",
        "# from surprise import KNNWithMeans\n",
        "# from surprise import KNNBasic\n",
        "# from surprise.model_selection import cross_validate\n",
        "# from surprise.model_selection import GridSearchCV\n",
        "# from surprise import SVD\n",
        "# from surprise import SVDpp\n",
        "# from surprise import NMF\n",
        "# from surprise import SlopeOne\n",
        "# from surprise import CoClustering\n",
        "# import heapq\n",
        "\n",
        "# Packages for model evaluation\n",
        "from sklearn.metrics import mean_squared_error\n",
        "from sklearn.metrics import mean_absolute_error\n",
        "from time import time\n",
        "\n",
        "# Package to suppress warnings\n",
        "import warnings\n",
        "warnings.filterwarnings(\"ignore\")\n",
        "\n",
        "# Packages for saving models\n",
        "import pickle"
      ]
    },
    {
      "cell_type": "markdown",
      "id": "f7cf1a4a",
      "metadata": {
        "id": "f7cf1a4a"
      },
      "source": [
        "# Load data\n"
      ]
    },
    {
      "cell_type": "code",
      "execution_count": 5,
      "id": "VYCR-K3Kgflp",
      "metadata": {
        "colab": {
          "base_uri": "https://localhost:8080/"
        },
        "id": "VYCR-K3Kgflp",
        "outputId": "7ab65634-3048-49d8-8536-75841bed6fb8"
      },
      "outputs": [],
      "source": [
        "# from google.colab import drive\n",
        "# drive.mount('/content/drive')\n"
      ]
    },
    {
      "cell_type": "code",
      "execution_count": 6,
      "id": "DqaQalFVgfp9",
      "metadata": {
        "id": "DqaQalFVgfp9"
      },
      "outputs": [],
      "source": [
        "import os\n",
        "\n",
        "# Path to the folder containing your CSV files\n",
        "folder_path = \"C:/Users/Acer/Documents/Software/ExploreAI/Sprint_07_Unsupervised_Learning/project/FM2_Unsupervised_Movie_Recommendation_model\"\n",
        "\n",
        "# Change the current working directory to the folder containing your CSV files\n",
        "os.chdir(folder_path)"
      ]
    },
    {
      "cell_type": "code",
      "execution_count": 7,
      "id": "sAR7Qyxagfst",
      "metadata": {
        "id": "sAR7Qyxagfst"
      },
      "outputs": [],
      "source": [
        "\n",
        "# Load train.csv\n",
        "train = pd.read_csv('train.csv')\n",
        "\n",
        "# Load test.csv\n",
        "test = pd.read_csv('test.csv')\n",
        "\n",
        "# Load movies.csv\n",
        "movies = pd.read_csv('movies.csv')\n",
        "\n",
        "# Load imdb_data.csv\n",
        "imdb_data = pd.read_csv('imdb_data.csv')\n",
        "\n",
        "# Load genome_tags.csv\n",
        "genome_tags = pd.read_csv('genome_tags.csv')\n",
        "\n",
        "# Load tags.csv\n",
        "tags = pd.read_csv('tags.csv')\n",
        "\n",
        "# Load links.csv\n",
        "links = pd.read_csv('links.csv')\n",
        "\n",
        "# Load genome_scores.csv\n",
        "genome_scores = pd.read_csv('genome_scores.csv')\n"
      ]
    },
    {
      "cell_type": "markdown",
      "id": "40e8816c",
      "metadata": {
        "id": "40e8816c"
      },
      "source": [
        "# Evaluating Data"
      ]
    },
    {
      "cell_type": "code",
      "execution_count": 8,
      "id": "ded9be3c",
      "metadata": {
        "colab": {
          "base_uri": "https://localhost:8080/",
          "height": 206
        },
        "id": "ded9be3c",
        "outputId": "56ba25cc-8efb-44f6-bffe-207e8cbbd4ef"
      },
      "outputs": [
        {
          "data": {
            "text/html": [
              "<div>\n",
              "<style scoped>\n",
              "    .dataframe tbody tr th:only-of-type {\n",
              "        vertical-align: middle;\n",
              "    }\n",
              "\n",
              "    .dataframe tbody tr th {\n",
              "        vertical-align: top;\n",
              "    }\n",
              "\n",
              "    .dataframe thead th {\n",
              "        text-align: right;\n",
              "    }\n",
              "</style>\n",
              "<table border=\"1\" class=\"dataframe\">\n",
              "  <thead>\n",
              "    <tr style=\"text-align: right;\">\n",
              "      <th></th>\n",
              "      <th>userId</th>\n",
              "      <th>movieId</th>\n",
              "      <th>rating</th>\n",
              "      <th>timestamp</th>\n",
              "    </tr>\n",
              "  </thead>\n",
              "  <tbody>\n",
              "    <tr>\n",
              "      <th>0</th>\n",
              "      <td>5163</td>\n",
              "      <td>57669</td>\n",
              "      <td>4.0</td>\n",
              "      <td>1518349992</td>\n",
              "    </tr>\n",
              "    <tr>\n",
              "      <th>1</th>\n",
              "      <td>106343</td>\n",
              "      <td>5</td>\n",
              "      <td>4.5</td>\n",
              "      <td>1206238739</td>\n",
              "    </tr>\n",
              "    <tr>\n",
              "      <th>2</th>\n",
              "      <td>146790</td>\n",
              "      <td>5459</td>\n",
              "      <td>5.0</td>\n",
              "      <td>1076215539</td>\n",
              "    </tr>\n",
              "    <tr>\n",
              "      <th>3</th>\n",
              "      <td>106362</td>\n",
              "      <td>32296</td>\n",
              "      <td>2.0</td>\n",
              "      <td>1423042565</td>\n",
              "    </tr>\n",
              "    <tr>\n",
              "      <th>4</th>\n",
              "      <td>9041</td>\n",
              "      <td>366</td>\n",
              "      <td>3.0</td>\n",
              "      <td>833375837</td>\n",
              "    </tr>\n",
              "  </tbody>\n",
              "</table>\n",
              "</div>"
            ],
            "text/plain": [
              "   userId  movieId  rating   timestamp\n",
              "0    5163    57669     4.0  1518349992\n",
              "1  106343        5     4.5  1206238739\n",
              "2  146790     5459     5.0  1076215539\n",
              "3  106362    32296     2.0  1423042565\n",
              "4    9041      366     3.0   833375837"
            ]
          },
          "execution_count": 8,
          "metadata": {},
          "output_type": "execute_result"
        }
      ],
      "source": [
        "train.head()"
      ]
    },
    {
      "cell_type": "markdown",
      "id": "525d02fe",
      "metadata": {
        "id": "525d02fe"
      },
      "source": [
        "**Train:**\n",
        "\n",
        "UserId\n",
        "\n",
        "movieId : Identifier for movies used\n",
        "\n",
        "rating : Ratings are made on a 5-star scale, with half-star increments (0.5 stars - 5.0 stars).\n",
        "\n",
        "timestamp: represent seconds since midnight Coordinated Universal Time (UTC) of January 1, 1970.\n"
      ]
    },
    {
      "cell_type": "code",
      "execution_count": 9,
      "id": "bd532209",
      "metadata": {
        "colab": {
          "base_uri": "https://localhost:8080/",
          "height": 206
        },
        "id": "bd532209",
        "outputId": "488034e0-2138-4ed7-e189-13f81de61cf4"
      },
      "outputs": [
        {
          "data": {
            "text/html": [
              "<div>\n",
              "<style scoped>\n",
              "    .dataframe tbody tr th:only-of-type {\n",
              "        vertical-align: middle;\n",
              "    }\n",
              "\n",
              "    .dataframe tbody tr th {\n",
              "        vertical-align: top;\n",
              "    }\n",
              "\n",
              "    .dataframe thead th {\n",
              "        text-align: right;\n",
              "    }\n",
              "</style>\n",
              "<table border=\"1\" class=\"dataframe\">\n",
              "  <thead>\n",
              "    <tr style=\"text-align: right;\">\n",
              "      <th></th>\n",
              "      <th>movieId</th>\n",
              "      <th>title</th>\n",
              "      <th>genres</th>\n",
              "    </tr>\n",
              "  </thead>\n",
              "  <tbody>\n",
              "    <tr>\n",
              "      <th>0</th>\n",
              "      <td>1</td>\n",
              "      <td>Toy Story (1995)</td>\n",
              "      <td>Adventure|Animation|Children|Comedy|Fantasy</td>\n",
              "    </tr>\n",
              "    <tr>\n",
              "      <th>1</th>\n",
              "      <td>2</td>\n",
              "      <td>Jumanji (1995)</td>\n",
              "      <td>Adventure|Children|Fantasy</td>\n",
              "    </tr>\n",
              "    <tr>\n",
              "      <th>2</th>\n",
              "      <td>3</td>\n",
              "      <td>Grumpier Old Men (1995)</td>\n",
              "      <td>Comedy|Romance</td>\n",
              "    </tr>\n",
              "    <tr>\n",
              "      <th>3</th>\n",
              "      <td>4</td>\n",
              "      <td>Waiting to Exhale (1995)</td>\n",
              "      <td>Comedy|Drama|Romance</td>\n",
              "    </tr>\n",
              "    <tr>\n",
              "      <th>4</th>\n",
              "      <td>5</td>\n",
              "      <td>Father of the Bride Part II (1995)</td>\n",
              "      <td>Comedy</td>\n",
              "    </tr>\n",
              "  </tbody>\n",
              "</table>\n",
              "</div>"
            ],
            "text/plain": [
              "   movieId                               title  \\\n",
              "0        1                    Toy Story (1995)   \n",
              "1        2                      Jumanji (1995)   \n",
              "2        3             Grumpier Old Men (1995)   \n",
              "3        4            Waiting to Exhale (1995)   \n",
              "4        5  Father of the Bride Part II (1995)   \n",
              "\n",
              "                                        genres  \n",
              "0  Adventure|Animation|Children|Comedy|Fantasy  \n",
              "1                   Adventure|Children|Fantasy  \n",
              "2                               Comedy|Romance  \n",
              "3                         Comedy|Drama|Romance  \n",
              "4                                       Comedy  "
            ]
          },
          "execution_count": 9,
          "metadata": {},
          "output_type": "execute_result"
        }
      ],
      "source": [
        "movies.head()"
      ]
    },
    {
      "cell_type": "code",
      "execution_count": 10,
      "id": "b664cc38",
      "metadata": {
        "colab": {
          "base_uri": "https://localhost:8080/",
          "height": 81
        },
        "id": "b664cc38",
        "outputId": "e5b986b7-8e17-4d1e-d27e-f208fa96585f"
      },
      "outputs": [
        {
          "data": {
            "text/html": [
              "<div>\n",
              "<style scoped>\n",
              "    .dataframe tbody tr th:only-of-type {\n",
              "        vertical-align: middle;\n",
              "    }\n",
              "\n",
              "    .dataframe tbody tr th {\n",
              "        vertical-align: top;\n",
              "    }\n",
              "\n",
              "    .dataframe thead th {\n",
              "        text-align: right;\n",
              "    }\n",
              "</style>\n",
              "<table border=\"1\" class=\"dataframe\">\n",
              "  <thead>\n",
              "    <tr style=\"text-align: right;\">\n",
              "      <th></th>\n",
              "      <th>movieId</th>\n",
              "      <th>title_cast</th>\n",
              "      <th>director</th>\n",
              "      <th>runtime</th>\n",
              "      <th>budget</th>\n",
              "      <th>plot_keywords</th>\n",
              "    </tr>\n",
              "  </thead>\n",
              "  <tbody>\n",
              "    <tr>\n",
              "      <th>0</th>\n",
              "      <td>1</td>\n",
              "      <td>Tom Hanks|Tim Allen|Don Rickles|Jim Varney|Wal...</td>\n",
              "      <td>John Lasseter</td>\n",
              "      <td>81.0</td>\n",
              "      <td>$30,000,000</td>\n",
              "      <td>toy|rivalry|cowboy|cgi animation</td>\n",
              "    </tr>\n",
              "  </tbody>\n",
              "</table>\n",
              "</div>"
            ],
            "text/plain": [
              "   movieId                                         title_cast       director  \\\n",
              "0        1  Tom Hanks|Tim Allen|Don Rickles|Jim Varney|Wal...  John Lasseter   \n",
              "\n",
              "   runtime       budget                     plot_keywords  \n",
              "0     81.0  $30,000,000  toy|rivalry|cowboy|cgi animation  "
            ]
          },
          "execution_count": 10,
          "metadata": {},
          "output_type": "execute_result"
        }
      ],
      "source": [
        "imdb_data.head(1)"
      ]
    },
    {
      "cell_type": "code",
      "execution_count": 11,
      "id": "88cc0b08",
      "metadata": {
        "colab": {
          "base_uri": "https://localhost:8080/",
          "height": 81
        },
        "id": "88cc0b08",
        "outputId": "4130f0e4-63e4-47bc-de39-40f8e6a10b8b"
      },
      "outputs": [
        {
          "data": {
            "text/html": [
              "<div>\n",
              "<style scoped>\n",
              "    .dataframe tbody tr th:only-of-type {\n",
              "        vertical-align: middle;\n",
              "    }\n",
              "\n",
              "    .dataframe tbody tr th {\n",
              "        vertical-align: top;\n",
              "    }\n",
              "\n",
              "    .dataframe thead th {\n",
              "        text-align: right;\n",
              "    }\n",
              "</style>\n",
              "<table border=\"1\" class=\"dataframe\">\n",
              "  <thead>\n",
              "    <tr style=\"text-align: right;\">\n",
              "      <th></th>\n",
              "      <th>tagId</th>\n",
              "      <th>tag</th>\n",
              "    </tr>\n",
              "  </thead>\n",
              "  <tbody>\n",
              "    <tr>\n",
              "      <th>0</th>\n",
              "      <td>1</td>\n",
              "      <td>007</td>\n",
              "    </tr>\n",
              "  </tbody>\n",
              "</table>\n",
              "</div>"
            ],
            "text/plain": [
              "   tagId  tag\n",
              "0      1  007"
            ]
          },
          "execution_count": 11,
          "metadata": {},
          "output_type": "execute_result"
        }
      ],
      "source": [
        "genome_tags.head(1)"
      ]
    },
    {
      "cell_type": "markdown",
      "id": "d0f81b04",
      "metadata": {
        "id": "d0f81b04"
      },
      "source": [
        "**genome-tags:**\n",
        "\n",
        "* tagId\n",
        "* tag : tag descriptions for the tag IDs in the genome file"
      ]
    },
    {
      "cell_type": "code",
      "execution_count": 12,
      "id": "34884f38",
      "metadata": {
        "colab": {
          "base_uri": "https://localhost:8080/",
          "height": 206
        },
        "id": "34884f38",
        "outputId": "93f4a728-748c-419e-bbb3-2edc9976b3dd"
      },
      "outputs": [
        {
          "data": {
            "text/html": [
              "<div>\n",
              "<style scoped>\n",
              "    .dataframe tbody tr th:only-of-type {\n",
              "        vertical-align: middle;\n",
              "    }\n",
              "\n",
              "    .dataframe tbody tr th {\n",
              "        vertical-align: top;\n",
              "    }\n",
              "\n",
              "    .dataframe thead th {\n",
              "        text-align: right;\n",
              "    }\n",
              "</style>\n",
              "<table border=\"1\" class=\"dataframe\">\n",
              "  <thead>\n",
              "    <tr style=\"text-align: right;\">\n",
              "      <th></th>\n",
              "      <th>movieId</th>\n",
              "      <th>tagId</th>\n",
              "      <th>relevance</th>\n",
              "    </tr>\n",
              "  </thead>\n",
              "  <tbody>\n",
              "    <tr>\n",
              "      <th>0</th>\n",
              "      <td>1</td>\n",
              "      <td>1</td>\n",
              "      <td>0.02875</td>\n",
              "    </tr>\n",
              "    <tr>\n",
              "      <th>1</th>\n",
              "      <td>1</td>\n",
              "      <td>2</td>\n",
              "      <td>0.02375</td>\n",
              "    </tr>\n",
              "    <tr>\n",
              "      <th>2</th>\n",
              "      <td>1</td>\n",
              "      <td>3</td>\n",
              "      <td>0.06250</td>\n",
              "    </tr>\n",
              "    <tr>\n",
              "      <th>3</th>\n",
              "      <td>1</td>\n",
              "      <td>4</td>\n",
              "      <td>0.07575</td>\n",
              "    </tr>\n",
              "    <tr>\n",
              "      <th>4</th>\n",
              "      <td>1</td>\n",
              "      <td>5</td>\n",
              "      <td>0.14075</td>\n",
              "    </tr>\n",
              "    <tr>\n",
              "      <th>5</th>\n",
              "      <td>1</td>\n",
              "      <td>6</td>\n",
              "      <td>0.14675</td>\n",
              "    </tr>\n",
              "    <tr>\n",
              "      <th>6</th>\n",
              "      <td>1</td>\n",
              "      <td>7</td>\n",
              "      <td>0.06350</td>\n",
              "    </tr>\n",
              "    <tr>\n",
              "      <th>7</th>\n",
              "      <td>1</td>\n",
              "      <td>8</td>\n",
              "      <td>0.20375</td>\n",
              "    </tr>\n",
              "    <tr>\n",
              "      <th>8</th>\n",
              "      <td>1</td>\n",
              "      <td>9</td>\n",
              "      <td>0.20200</td>\n",
              "    </tr>\n",
              "    <tr>\n",
              "      <th>9</th>\n",
              "      <td>1</td>\n",
              "      <td>10</td>\n",
              "      <td>0.03075</td>\n",
              "    </tr>\n",
              "  </tbody>\n",
              "</table>\n",
              "</div>"
            ],
            "text/plain": [
              "   movieId  tagId  relevance\n",
              "0        1      1    0.02875\n",
              "1        1      2    0.02375\n",
              "2        1      3    0.06250\n",
              "3        1      4    0.07575\n",
              "4        1      5    0.14075\n",
              "5        1      6    0.14675\n",
              "6        1      7    0.06350\n",
              "7        1      8    0.20375\n",
              "8        1      9    0.20200\n",
              "9        1     10    0.03075"
            ]
          },
          "execution_count": 12,
          "metadata": {},
          "output_type": "execute_result"
        }
      ],
      "source": [
        "genome_scores.head(10)"
      ]
    },
    {
      "cell_type": "markdown",
      "id": "e899cfbf",
      "metadata": {
        "id": "e899cfbf"
      },
      "source": [
        "**genome-scores:**\n",
        "\n",
        "* movieId : Identifier for movies\n",
        "* tagId :\n",
        "* relevance"
      ]
    },
    {
      "cell_type": "code",
      "execution_count": 13,
      "id": "abaeb79f",
      "metadata": {
        "colab": {
          "base_uri": "https://localhost:8080/",
          "height": 206
        },
        "id": "abaeb79f",
        "outputId": "ffb29d02-3334-4381-f814-37fe3a70cd2d"
      },
      "outputs": [
        {
          "data": {
            "text/html": [
              "<div>\n",
              "<style scoped>\n",
              "    .dataframe tbody tr th:only-of-type {\n",
              "        vertical-align: middle;\n",
              "    }\n",
              "\n",
              "    .dataframe tbody tr th {\n",
              "        vertical-align: top;\n",
              "    }\n",
              "\n",
              "    .dataframe thead th {\n",
              "        text-align: right;\n",
              "    }\n",
              "</style>\n",
              "<table border=\"1\" class=\"dataframe\">\n",
              "  <thead>\n",
              "    <tr style=\"text-align: right;\">\n",
              "      <th></th>\n",
              "      <th>userId</th>\n",
              "      <th>movieId</th>\n",
              "      <th>tag</th>\n",
              "      <th>timestamp</th>\n",
              "    </tr>\n",
              "  </thead>\n",
              "  <tbody>\n",
              "    <tr>\n",
              "      <th>0</th>\n",
              "      <td>3</td>\n",
              "      <td>260</td>\n",
              "      <td>classic</td>\n",
              "      <td>1439472355</td>\n",
              "    </tr>\n",
              "    <tr>\n",
              "      <th>1</th>\n",
              "      <td>3</td>\n",
              "      <td>260</td>\n",
              "      <td>sci-fi</td>\n",
              "      <td>1439472256</td>\n",
              "    </tr>\n",
              "    <tr>\n",
              "      <th>2</th>\n",
              "      <td>4</td>\n",
              "      <td>1732</td>\n",
              "      <td>dark comedy</td>\n",
              "      <td>1573943598</td>\n",
              "    </tr>\n",
              "    <tr>\n",
              "      <th>3</th>\n",
              "      <td>4</td>\n",
              "      <td>1732</td>\n",
              "      <td>great dialogue</td>\n",
              "      <td>1573943604</td>\n",
              "    </tr>\n",
              "    <tr>\n",
              "      <th>4</th>\n",
              "      <td>4</td>\n",
              "      <td>7569</td>\n",
              "      <td>so bad it's good</td>\n",
              "      <td>1573943455</td>\n",
              "    </tr>\n",
              "  </tbody>\n",
              "</table>\n",
              "</div>"
            ],
            "text/plain": [
              "   userId  movieId               tag   timestamp\n",
              "0       3      260           classic  1439472355\n",
              "1       3      260            sci-fi  1439472256\n",
              "2       4     1732       dark comedy  1573943598\n",
              "3       4     1732    great dialogue  1573943604\n",
              "4       4     7569  so bad it's good  1573943455"
            ]
          },
          "execution_count": 13,
          "metadata": {},
          "output_type": "execute_result"
        }
      ],
      "source": [
        "tags.head()"
      ]
    },
    {
      "cell_type": "markdown",
      "id": "0bbd5c8e",
      "metadata": {
        "id": "0bbd5c8e"
      },
      "source": [
        "**tags:**\n",
        "\n",
        "* userId\n",
        "* movieId\n",
        "* tag : User-generated metadata about movies. Each tag is typically a single word or short phrase. The meaning, value, and * purpose of a particular tag is determined by each user.\n",
        "* timestamp : represent seconds since midnight Coordinated Universal Time (UTC) of January 1, 1970"
      ]
    },
    {
      "cell_type": "code",
      "execution_count": 14,
      "id": "5b6685ed",
      "metadata": {
        "colab": {
          "base_uri": "https://localhost:8080/",
          "height": 206
        },
        "id": "5b6685ed",
        "outputId": "d8d578cf-5621-4778-fb20-4b71b0c4267e"
      },
      "outputs": [
        {
          "data": {
            "text/html": [
              "<div>\n",
              "<style scoped>\n",
              "    .dataframe tbody tr th:only-of-type {\n",
              "        vertical-align: middle;\n",
              "    }\n",
              "\n",
              "    .dataframe tbody tr th {\n",
              "        vertical-align: top;\n",
              "    }\n",
              "\n",
              "    .dataframe thead th {\n",
              "        text-align: right;\n",
              "    }\n",
              "</style>\n",
              "<table border=\"1\" class=\"dataframe\">\n",
              "  <thead>\n",
              "    <tr style=\"text-align: right;\">\n",
              "      <th></th>\n",
              "      <th>movieId</th>\n",
              "      <th>imdbId</th>\n",
              "      <th>tmdbId</th>\n",
              "    </tr>\n",
              "  </thead>\n",
              "  <tbody>\n",
              "    <tr>\n",
              "      <th>0</th>\n",
              "      <td>1</td>\n",
              "      <td>114709</td>\n",
              "      <td>862.0</td>\n",
              "    </tr>\n",
              "    <tr>\n",
              "      <th>1</th>\n",
              "      <td>2</td>\n",
              "      <td>113497</td>\n",
              "      <td>8844.0</td>\n",
              "    </tr>\n",
              "    <tr>\n",
              "      <th>2</th>\n",
              "      <td>3</td>\n",
              "      <td>113228</td>\n",
              "      <td>15602.0</td>\n",
              "    </tr>\n",
              "    <tr>\n",
              "      <th>3</th>\n",
              "      <td>4</td>\n",
              "      <td>114885</td>\n",
              "      <td>31357.0</td>\n",
              "    </tr>\n",
              "    <tr>\n",
              "      <th>4</th>\n",
              "      <td>5</td>\n",
              "      <td>113041</td>\n",
              "      <td>11862.0</td>\n",
              "    </tr>\n",
              "  </tbody>\n",
              "</table>\n",
              "</div>"
            ],
            "text/plain": [
              "   movieId  imdbId   tmdbId\n",
              "0        1  114709    862.0\n",
              "1        2  113497   8844.0\n",
              "2        3  113228  15602.0\n",
              "3        4  114885  31357.0\n",
              "4        5  113041  11862.0"
            ]
          },
          "execution_count": 14,
          "metadata": {},
          "output_type": "execute_result"
        }
      ],
      "source": [
        "links.head()"
      ]
    },
    {
      "cell_type": "markdown",
      "id": "f6dd7400",
      "metadata": {
        "id": "f6dd7400"
      },
      "source": [
        "# Data Preprocessing\n"
      ]
    },
    {
      "cell_type": "code",
      "execution_count": 15,
      "id": "76bccc70",
      "metadata": {
        "colab": {
          "base_uri": "https://localhost:8080/"
        },
        "id": "76bccc70",
        "outputId": "9b88e69a-331c-4fd4-c31e-fea361cc981c"
      },
      "outputs": [
        {
          "data": {
            "text/plain": [
              "userId       0\n",
              "movieId      0\n",
              "rating       0\n",
              "timestamp    0\n",
              "dtype: int64"
            ]
          },
          "execution_count": 15,
          "metadata": {},
          "output_type": "execute_result"
        }
      ],
      "source": [
        "#check for missing values\n",
        "train.isnull().sum()"
      ]
    },
    {
      "cell_type": "code",
      "execution_count": 16,
      "id": "645b1634",
      "metadata": {
        "colab": {
          "base_uri": "https://localhost:8080/"
        },
        "id": "645b1634",
        "outputId": "7788ae30-4ee7-470e-9440-34aed3790bdb"
      },
      "outputs": [
        {
          "name": "stdout",
          "output_type": "stream",
          "text": [
            "Number of duplicate records: 0\n"
          ]
        }
      ],
      "source": [
        "# check duplicates\n",
        "duplicates = train.duplicated(['userId', 'movieId', 'rating'])\n",
        "\n",
        "print(\"Number of duplicate records:\", sum(duplicates))"
      ]
    },
    {
      "cell_type": "code",
      "execution_count": 17,
      "id": "6ad29338",
      "metadata": {
        "id": "6ad29338"
      },
      "outputs": [],
      "source": [
        "# Create a copy\n",
        "df = train.copy()"
      ]
    },
    {
      "cell_type": "code",
      "execution_count": 18,
      "id": "b8bbfa82",
      "metadata": {
        "colab": {
          "base_uri": "https://localhost:8080/",
          "height": 206
        },
        "id": "b8bbfa82",
        "outputId": "028c561b-d862-491a-c66c-c0aad789d221"
      },
      "outputs": [
        {
          "data": {
            "text/html": [
              "<div>\n",
              "<style scoped>\n",
              "    .dataframe tbody tr th:only-of-type {\n",
              "        vertical-align: middle;\n",
              "    }\n",
              "\n",
              "    .dataframe tbody tr th {\n",
              "        vertical-align: top;\n",
              "    }\n",
              "\n",
              "    .dataframe thead th {\n",
              "        text-align: right;\n",
              "    }\n",
              "</style>\n",
              "<table border=\"1\" class=\"dataframe\">\n",
              "  <thead>\n",
              "    <tr style=\"text-align: right;\">\n",
              "      <th></th>\n",
              "      <th>userId</th>\n",
              "      <th>movieId</th>\n",
              "      <th>rating</th>\n",
              "      <th>timestamp</th>\n",
              "    </tr>\n",
              "  </thead>\n",
              "  <tbody>\n",
              "    <tr>\n",
              "      <th>0</th>\n",
              "      <td>5163</td>\n",
              "      <td>57669</td>\n",
              "      <td>4.0</td>\n",
              "      <td>1518349992</td>\n",
              "    </tr>\n",
              "    <tr>\n",
              "      <th>1</th>\n",
              "      <td>106343</td>\n",
              "      <td>5</td>\n",
              "      <td>4.5</td>\n",
              "      <td>1206238739</td>\n",
              "    </tr>\n",
              "    <tr>\n",
              "      <th>2</th>\n",
              "      <td>146790</td>\n",
              "      <td>5459</td>\n",
              "      <td>5.0</td>\n",
              "      <td>1076215539</td>\n",
              "    </tr>\n",
              "    <tr>\n",
              "      <th>3</th>\n",
              "      <td>106362</td>\n",
              "      <td>32296</td>\n",
              "      <td>2.0</td>\n",
              "      <td>1423042565</td>\n",
              "    </tr>\n",
              "    <tr>\n",
              "      <th>4</th>\n",
              "      <td>9041</td>\n",
              "      <td>366</td>\n",
              "      <td>3.0</td>\n",
              "      <td>833375837</td>\n",
              "    </tr>\n",
              "  </tbody>\n",
              "</table>\n",
              "</div>"
            ],
            "text/plain": [
              "   userId  movieId  rating   timestamp\n",
              "0    5163    57669     4.0  1518349992\n",
              "1  106343        5     4.5  1206238739\n",
              "2  146790     5459     5.0  1076215539\n",
              "3  106362    32296     2.0  1423042565\n",
              "4    9041      366     3.0   833375837"
            ]
          },
          "execution_count": 18,
          "metadata": {},
          "output_type": "execute_result"
        }
      ],
      "source": [
        "# Create a copy of the train data\n",
        "df_train = train.copy()\n",
        "\n",
        "df_train.head()"
      ]
    },
    {
      "cell_type": "code",
      "execution_count": 19,
      "id": "91f30da5",
      "metadata": {
        "colab": {
          "base_uri": "https://localhost:8080/"
        },
        "id": "91f30da5",
        "outputId": "9f7ac373-4b4a-4237-dc25-1d6da7bbb7a5"
      },
      "outputs": [
        {
          "data": {
            "text/plain": [
              "(162541, 48213)"
            ]
          },
          "execution_count": 19,
          "metadata": {},
          "output_type": "execute_result"
        }
      ],
      "source": [
        "# Find the length of the unique use\n",
        "len(df_train['userId'].unique()), len(df_train['movieId'].unique())"
      ]
    },
    {
      "cell_type": "code",
      "execution_count": 20,
      "id": "5c49276a",
      "metadata": {
        "colab": {
          "base_uri": "https://localhost:8080/",
          "height": 206
        },
        "id": "5c49276a",
        "outputId": "43872395-5bf7-4621-9c68-57eda2b436c3"
      },
      "outputs": [
        {
          "data": {
            "text/html": [
              "<div>\n",
              "<style scoped>\n",
              "    .dataframe tbody tr th:only-of-type {\n",
              "        vertical-align: middle;\n",
              "    }\n",
              "\n",
              "    .dataframe tbody tr th {\n",
              "        vertical-align: top;\n",
              "    }\n",
              "\n",
              "    .dataframe thead th {\n",
              "        text-align: right;\n",
              "    }\n",
              "</style>\n",
              "<table border=\"1\" class=\"dataframe\">\n",
              "  <thead>\n",
              "    <tr style=\"text-align: right;\">\n",
              "      <th></th>\n",
              "      <th>movieId</th>\n",
              "      <th>title</th>\n",
              "      <th>genres</th>\n",
              "    </tr>\n",
              "  </thead>\n",
              "  <tbody>\n",
              "    <tr>\n",
              "      <th>0</th>\n",
              "      <td>1</td>\n",
              "      <td>Toy Story (1995)</td>\n",
              "      <td>Adventure|Animation|Children|Comedy|Fantasy</td>\n",
              "    </tr>\n",
              "    <tr>\n",
              "      <th>1</th>\n",
              "      <td>2</td>\n",
              "      <td>Jumanji (1995)</td>\n",
              "      <td>Adventure|Children|Fantasy</td>\n",
              "    </tr>\n",
              "    <tr>\n",
              "      <th>2</th>\n",
              "      <td>3</td>\n",
              "      <td>Grumpier Old Men (1995)</td>\n",
              "      <td>Comedy|Romance</td>\n",
              "    </tr>\n",
              "    <tr>\n",
              "      <th>3</th>\n",
              "      <td>4</td>\n",
              "      <td>Waiting to Exhale (1995)</td>\n",
              "      <td>Comedy|Drama|Romance</td>\n",
              "    </tr>\n",
              "    <tr>\n",
              "      <th>4</th>\n",
              "      <td>5</td>\n",
              "      <td>Father of the Bride Part II (1995)</td>\n",
              "      <td>Comedy</td>\n",
              "    </tr>\n",
              "  </tbody>\n",
              "</table>\n",
              "</div>"
            ],
            "text/plain": [
              "   movieId                               title  \\\n",
              "0        1                    Toy Story (1995)   \n",
              "1        2                      Jumanji (1995)   \n",
              "2        3             Grumpier Old Men (1995)   \n",
              "3        4            Waiting to Exhale (1995)   \n",
              "4        5  Father of the Bride Part II (1995)   \n",
              "\n",
              "                                        genres  \n",
              "0  Adventure|Animation|Children|Comedy|Fantasy  \n",
              "1                   Adventure|Children|Fantasy  \n",
              "2                               Comedy|Romance  \n",
              "3                         Comedy|Drama|Romance  \n",
              "4                                       Comedy  "
            ]
          },
          "execution_count": 20,
          "metadata": {},
          "output_type": "execute_result"
        }
      ],
      "source": [
        "movies.head()"
      ]
    },
    {
      "cell_type": "code",
      "execution_count": 21,
      "id": "1aba0ba9",
      "metadata": {
        "colab": {
          "base_uri": "https://localhost:8080/"
        },
        "id": "1aba0ba9",
        "outputId": "5a066b63-4b2e-4458-c5b9-b1013df4bb4c"
      },
      "outputs": [
        {
          "data": {
            "text/plain": [
              "62423"
            ]
          },
          "execution_count": 21,
          "metadata": {},
          "output_type": "execute_result"
        }
      ],
      "source": [
        "len(movies['movieId'].unique())"
      ]
    },
    {
      "cell_type": "markdown",
      "id": "162f31d5",
      "metadata": {
        "id": "162f31d5"
      },
      "source": [
        "# Joining Datasets"
      ]
    },
    {
      "cell_type": "code",
      "execution_count": 22,
      "id": "ab34d206",
      "metadata": {
        "colab": {
          "base_uri": "https://localhost:8080/",
          "height": 206
        },
        "id": "ab34d206",
        "outputId": "7d3858c3-8afb-42a2-bd26-97884094f3b8"
      },
      "outputs": [
        {
          "data": {
            "text/html": [
              "<div>\n",
              "<style scoped>\n",
              "    .dataframe tbody tr th:only-of-type {\n",
              "        vertical-align: middle;\n",
              "    }\n",
              "\n",
              "    .dataframe tbody tr th {\n",
              "        vertical-align: top;\n",
              "    }\n",
              "\n",
              "    .dataframe thead th {\n",
              "        text-align: right;\n",
              "    }\n",
              "</style>\n",
              "<table border=\"1\" class=\"dataframe\">\n",
              "  <thead>\n",
              "    <tr style=\"text-align: right;\">\n",
              "      <th></th>\n",
              "      <th>userId</th>\n",
              "      <th>movieId</th>\n",
              "      <th>rating</th>\n",
              "      <th>timestamp</th>\n",
              "      <th>title</th>\n",
              "      <th>genres</th>\n",
              "    </tr>\n",
              "  </thead>\n",
              "  <tbody>\n",
              "    <tr>\n",
              "      <th>0</th>\n",
              "      <td>5163</td>\n",
              "      <td>57669</td>\n",
              "      <td>4.0</td>\n",
              "      <td>1518349992</td>\n",
              "      <td>In Bruges (2008)</td>\n",
              "      <td>Comedy|Crime|Drama|Thriller</td>\n",
              "    </tr>\n",
              "    <tr>\n",
              "      <th>1</th>\n",
              "      <td>87388</td>\n",
              "      <td>57669</td>\n",
              "      <td>3.5</td>\n",
              "      <td>1237455297</td>\n",
              "      <td>In Bruges (2008)</td>\n",
              "      <td>Comedy|Crime|Drama|Thriller</td>\n",
              "    </tr>\n",
              "    <tr>\n",
              "      <th>2</th>\n",
              "      <td>137050</td>\n",
              "      <td>57669</td>\n",
              "      <td>4.0</td>\n",
              "      <td>1425631854</td>\n",
              "      <td>In Bruges (2008)</td>\n",
              "      <td>Comedy|Crime|Drama|Thriller</td>\n",
              "    </tr>\n",
              "    <tr>\n",
              "      <th>3</th>\n",
              "      <td>120490</td>\n",
              "      <td>57669</td>\n",
              "      <td>4.5</td>\n",
              "      <td>1408228517</td>\n",
              "      <td>In Bruges (2008)</td>\n",
              "      <td>Comedy|Crime|Drama|Thriller</td>\n",
              "    </tr>\n",
              "    <tr>\n",
              "      <th>4</th>\n",
              "      <td>50616</td>\n",
              "      <td>57669</td>\n",
              "      <td>4.5</td>\n",
              "      <td>1446941640</td>\n",
              "      <td>In Bruges (2008)</td>\n",
              "      <td>Comedy|Crime|Drama|Thriller</td>\n",
              "    </tr>\n",
              "  </tbody>\n",
              "</table>\n",
              "</div>"
            ],
            "text/plain": [
              "   userId  movieId  rating   timestamp             title  \\\n",
              "0    5163    57669     4.0  1518349992  In Bruges (2008)   \n",
              "1   87388    57669     3.5  1237455297  In Bruges (2008)   \n",
              "2  137050    57669     4.0  1425631854  In Bruges (2008)   \n",
              "3  120490    57669     4.5  1408228517  In Bruges (2008)   \n",
              "4   50616    57669     4.5  1446941640  In Bruges (2008)   \n",
              "\n",
              "                        genres  \n",
              "0  Comedy|Crime|Drama|Thriller  \n",
              "1  Comedy|Crime|Drama|Thriller  \n",
              "2  Comedy|Crime|Drama|Thriller  \n",
              "3  Comedy|Crime|Drama|Thriller  \n",
              "4  Comedy|Crime|Drama|Thriller  "
            ]
          },
          "execution_count": 22,
          "metadata": {},
          "output_type": "execute_result"
        }
      ],
      "source": [
        "# Merge the ratings and movies\n",
        "df_train1 = df_train.merge(movies, on='movieId')\n",
        "df_train1.head()"
      ]
    },
    {
      "cell_type": "code",
      "execution_count": 23,
      "id": "63a11a54",
      "metadata": {
        "colab": {
          "base_uri": "https://localhost:8080/",
          "height": 206
        },
        "id": "63a11a54",
        "outputId": "ec102417-b86d-4d52-8b52-17d4d812618f"
      },
      "outputs": [
        {
          "data": {
            "text/html": [
              "<div>\n",
              "<style scoped>\n",
              "    .dataframe tbody tr th:only-of-type {\n",
              "        vertical-align: middle;\n",
              "    }\n",
              "\n",
              "    .dataframe tbody tr th {\n",
              "        vertical-align: top;\n",
              "    }\n",
              "\n",
              "    .dataframe thead th {\n",
              "        text-align: right;\n",
              "    }\n",
              "</style>\n",
              "<table border=\"1\" class=\"dataframe\">\n",
              "  <thead>\n",
              "    <tr style=\"text-align: right;\">\n",
              "      <th></th>\n",
              "      <th>userId</th>\n",
              "      <th>movieId</th>\n",
              "      <th>rating</th>\n",
              "      <th>timestamp</th>\n",
              "      <th>title_cast</th>\n",
              "      <th>director</th>\n",
              "      <th>runtime</th>\n",
              "      <th>budget</th>\n",
              "      <th>plot_keywords</th>\n",
              "    </tr>\n",
              "  </thead>\n",
              "  <tbody>\n",
              "    <tr>\n",
              "      <th>0</th>\n",
              "      <td>5163</td>\n",
              "      <td>57669</td>\n",
              "      <td>4.0</td>\n",
              "      <td>1518349992</td>\n",
              "      <td>Elizabeth Berrington|Rudy Blomme|Olivier Bonjo...</td>\n",
              "      <td>Martin McDonagh</td>\n",
              "      <td>107.0</td>\n",
              "      <td>$15,000,000</td>\n",
              "      <td>dwarf|bruges|irish|hitman</td>\n",
              "    </tr>\n",
              "    <tr>\n",
              "      <th>1</th>\n",
              "      <td>87388</td>\n",
              "      <td>57669</td>\n",
              "      <td>3.5</td>\n",
              "      <td>1237455297</td>\n",
              "      <td>Elizabeth Berrington|Rudy Blomme|Olivier Bonjo...</td>\n",
              "      <td>Martin McDonagh</td>\n",
              "      <td>107.0</td>\n",
              "      <td>$15,000,000</td>\n",
              "      <td>dwarf|bruges|irish|hitman</td>\n",
              "    </tr>\n",
              "    <tr>\n",
              "      <th>2</th>\n",
              "      <td>137050</td>\n",
              "      <td>57669</td>\n",
              "      <td>4.0</td>\n",
              "      <td>1425631854</td>\n",
              "      <td>Elizabeth Berrington|Rudy Blomme|Olivier Bonjo...</td>\n",
              "      <td>Martin McDonagh</td>\n",
              "      <td>107.0</td>\n",
              "      <td>$15,000,000</td>\n",
              "      <td>dwarf|bruges|irish|hitman</td>\n",
              "    </tr>\n",
              "    <tr>\n",
              "      <th>3</th>\n",
              "      <td>120490</td>\n",
              "      <td>57669</td>\n",
              "      <td>4.5</td>\n",
              "      <td>1408228517</td>\n",
              "      <td>Elizabeth Berrington|Rudy Blomme|Olivier Bonjo...</td>\n",
              "      <td>Martin McDonagh</td>\n",
              "      <td>107.0</td>\n",
              "      <td>$15,000,000</td>\n",
              "      <td>dwarf|bruges|irish|hitman</td>\n",
              "    </tr>\n",
              "    <tr>\n",
              "      <th>4</th>\n",
              "      <td>50616</td>\n",
              "      <td>57669</td>\n",
              "      <td>4.5</td>\n",
              "      <td>1446941640</td>\n",
              "      <td>Elizabeth Berrington|Rudy Blomme|Olivier Bonjo...</td>\n",
              "      <td>Martin McDonagh</td>\n",
              "      <td>107.0</td>\n",
              "      <td>$15,000,000</td>\n",
              "      <td>dwarf|bruges|irish|hitman</td>\n",
              "    </tr>\n",
              "  </tbody>\n",
              "</table>\n",
              "</div>"
            ],
            "text/plain": [
              "   userId  movieId  rating   timestamp  \\\n",
              "0    5163    57669     4.0  1518349992   \n",
              "1   87388    57669     3.5  1237455297   \n",
              "2  137050    57669     4.0  1425631854   \n",
              "3  120490    57669     4.5  1408228517   \n",
              "4   50616    57669     4.5  1446941640   \n",
              "\n",
              "                                          title_cast         director  \\\n",
              "0  Elizabeth Berrington|Rudy Blomme|Olivier Bonjo...  Martin McDonagh   \n",
              "1  Elizabeth Berrington|Rudy Blomme|Olivier Bonjo...  Martin McDonagh   \n",
              "2  Elizabeth Berrington|Rudy Blomme|Olivier Bonjo...  Martin McDonagh   \n",
              "3  Elizabeth Berrington|Rudy Blomme|Olivier Bonjo...  Martin McDonagh   \n",
              "4  Elizabeth Berrington|Rudy Blomme|Olivier Bonjo...  Martin McDonagh   \n",
              "\n",
              "   runtime       budget              plot_keywords  \n",
              "0    107.0  $15,000,000  dwarf|bruges|irish|hitman  \n",
              "1    107.0  $15,000,000  dwarf|bruges|irish|hitman  \n",
              "2    107.0  $15,000,000  dwarf|bruges|irish|hitman  \n",
              "3    107.0  $15,000,000  dwarf|bruges|irish|hitman  \n",
              "4    107.0  $15,000,000  dwarf|bruges|irish|hitman  "
            ]
          },
          "execution_count": 23,
          "metadata": {},
          "output_type": "execute_result"
        }
      ],
      "source": [
        "# Merging the dataset with the imbd\n",
        "df_train2 = df_train.merge(imdb_data, on=\"movieId\")\n",
        "df_train2.head()"
      ]
    },
    {
      "cell_type": "code",
      "execution_count": 24,
      "id": "9cc75dde",
      "metadata": {
        "colab": {
          "base_uri": "https://localhost:8080/",
          "height": 293
        },
        "id": "9cc75dde",
        "outputId": "9dfbac23-7840-42ce-eba1-1ce026033af6"
      },
      "outputs": [
        {
          "data": {
            "text/html": [
              "<div>\n",
              "<style scoped>\n",
              "    .dataframe tbody tr th:only-of-type {\n",
              "        vertical-align: middle;\n",
              "    }\n",
              "\n",
              "    .dataframe tbody tr th {\n",
              "        vertical-align: top;\n",
              "    }\n",
              "\n",
              "    .dataframe thead th {\n",
              "        text-align: right;\n",
              "    }\n",
              "</style>\n",
              "<table border=\"1\" class=\"dataframe\">\n",
              "  <thead>\n",
              "    <tr style=\"text-align: right;\">\n",
              "      <th></th>\n",
              "      <th>userId</th>\n",
              "      <th>movieId</th>\n",
              "      <th>rating</th>\n",
              "      <th>timestamp</th>\n",
              "      <th>title</th>\n",
              "      <th>genres</th>\n",
              "      <th>title_cast</th>\n",
              "      <th>director</th>\n",
              "      <th>runtime</th>\n",
              "      <th>budget</th>\n",
              "      <th>plot_keywords</th>\n",
              "    </tr>\n",
              "  </thead>\n",
              "  <tbody>\n",
              "    <tr>\n",
              "      <th>0</th>\n",
              "      <td>5163</td>\n",
              "      <td>57669</td>\n",
              "      <td>4.0</td>\n",
              "      <td>1518349992</td>\n",
              "      <td>In Bruges (2008)</td>\n",
              "      <td>Comedy|Crime|Drama|Thriller</td>\n",
              "      <td>Elizabeth Berrington|Rudy Blomme|Olivier Bonjo...</td>\n",
              "      <td>Martin McDonagh</td>\n",
              "      <td>107.0</td>\n",
              "      <td>$15,000,000</td>\n",
              "      <td>dwarf|bruges|irish|hitman</td>\n",
              "    </tr>\n",
              "    <tr>\n",
              "      <th>1</th>\n",
              "      <td>87388</td>\n",
              "      <td>57669</td>\n",
              "      <td>3.5</td>\n",
              "      <td>1237455297</td>\n",
              "      <td>In Bruges (2008)</td>\n",
              "      <td>Comedy|Crime|Drama|Thriller</td>\n",
              "      <td>Elizabeth Berrington|Rudy Blomme|Olivier Bonjo...</td>\n",
              "      <td>Martin McDonagh</td>\n",
              "      <td>107.0</td>\n",
              "      <td>$15,000,000</td>\n",
              "      <td>dwarf|bruges|irish|hitman</td>\n",
              "    </tr>\n",
              "    <tr>\n",
              "      <th>2</th>\n",
              "      <td>137050</td>\n",
              "      <td>57669</td>\n",
              "      <td>4.0</td>\n",
              "      <td>1425631854</td>\n",
              "      <td>In Bruges (2008)</td>\n",
              "      <td>Comedy|Crime|Drama|Thriller</td>\n",
              "      <td>Elizabeth Berrington|Rudy Blomme|Olivier Bonjo...</td>\n",
              "      <td>Martin McDonagh</td>\n",
              "      <td>107.0</td>\n",
              "      <td>$15,000,000</td>\n",
              "      <td>dwarf|bruges|irish|hitman</td>\n",
              "    </tr>\n",
              "    <tr>\n",
              "      <th>3</th>\n",
              "      <td>120490</td>\n",
              "      <td>57669</td>\n",
              "      <td>4.5</td>\n",
              "      <td>1408228517</td>\n",
              "      <td>In Bruges (2008)</td>\n",
              "      <td>Comedy|Crime|Drama|Thriller</td>\n",
              "      <td>Elizabeth Berrington|Rudy Blomme|Olivier Bonjo...</td>\n",
              "      <td>Martin McDonagh</td>\n",
              "      <td>107.0</td>\n",
              "      <td>$15,000,000</td>\n",
              "      <td>dwarf|bruges|irish|hitman</td>\n",
              "    </tr>\n",
              "    <tr>\n",
              "      <th>4</th>\n",
              "      <td>50616</td>\n",
              "      <td>57669</td>\n",
              "      <td>4.5</td>\n",
              "      <td>1446941640</td>\n",
              "      <td>In Bruges (2008)</td>\n",
              "      <td>Comedy|Crime|Drama|Thriller</td>\n",
              "      <td>Elizabeth Berrington|Rudy Blomme|Olivier Bonjo...</td>\n",
              "      <td>Martin McDonagh</td>\n",
              "      <td>107.0</td>\n",
              "      <td>$15,000,000</td>\n",
              "      <td>dwarf|bruges|irish|hitman</td>\n",
              "    </tr>\n",
              "  </tbody>\n",
              "</table>\n",
              "</div>"
            ],
            "text/plain": [
              "   userId  movieId  rating   timestamp             title  \\\n",
              "0    5163    57669     4.0  1518349992  In Bruges (2008)   \n",
              "1   87388    57669     3.5  1237455297  In Bruges (2008)   \n",
              "2  137050    57669     4.0  1425631854  In Bruges (2008)   \n",
              "3  120490    57669     4.5  1408228517  In Bruges (2008)   \n",
              "4   50616    57669     4.5  1446941640  In Bruges (2008)   \n",
              "\n",
              "                        genres  \\\n",
              "0  Comedy|Crime|Drama|Thriller   \n",
              "1  Comedy|Crime|Drama|Thriller   \n",
              "2  Comedy|Crime|Drama|Thriller   \n",
              "3  Comedy|Crime|Drama|Thriller   \n",
              "4  Comedy|Crime|Drama|Thriller   \n",
              "\n",
              "                                          title_cast         director  \\\n",
              "0  Elizabeth Berrington|Rudy Blomme|Olivier Bonjo...  Martin McDonagh   \n",
              "1  Elizabeth Berrington|Rudy Blomme|Olivier Bonjo...  Martin McDonagh   \n",
              "2  Elizabeth Berrington|Rudy Blomme|Olivier Bonjo...  Martin McDonagh   \n",
              "3  Elizabeth Berrington|Rudy Blomme|Olivier Bonjo...  Martin McDonagh   \n",
              "4  Elizabeth Berrington|Rudy Blomme|Olivier Bonjo...  Martin McDonagh   \n",
              "\n",
              "   runtime       budget              plot_keywords  \n",
              "0    107.0  $15,000,000  dwarf|bruges|irish|hitman  \n",
              "1    107.0  $15,000,000  dwarf|bruges|irish|hitman  \n",
              "2    107.0  $15,000,000  dwarf|bruges|irish|hitman  \n",
              "3    107.0  $15,000,000  dwarf|bruges|irish|hitman  \n",
              "4    107.0  $15,000,000  dwarf|bruges|irish|hitman  "
            ]
          },
          "execution_count": 24,
          "metadata": {},
          "output_type": "execute_result"
        }
      ],
      "source": [
        "# Merging the merge data earlier on with the df_imbd\n",
        "df_train3 = df_train1.merge(imdb_data, on=\"movieId\" )\n",
        "df_train3.head()"
      ]
    },
    {
      "cell_type": "code",
      "execution_count": 25,
      "id": "f0a00b7e",
      "metadata": {
        "colab": {
          "base_uri": "https://localhost:8080/"
        },
        "id": "f0a00b7e",
        "outputId": "4ad48c68-0a18-4fb6-983f-5cf257c936f8"
      },
      "outputs": [
        {
          "data": {
            "text/plain": [
              "userId                 0\n",
              "movieId                0\n",
              "rating                 0\n",
              "timestamp              0\n",
              "title                  0\n",
              "genres                 0\n",
              "title_cast       2604407\n",
              "director         2602688\n",
              "runtime          2653058\n",
              "budget           3152276\n",
              "plot_keywords    2610043\n",
              "dtype: int64"
            ]
          },
          "execution_count": 25,
          "metadata": {},
          "output_type": "execute_result"
        }
      ],
      "source": [
        "# Check the null values of the data that has just been merged.\n",
        "df_train3.isnull().sum()"
      ]
    },
    {
      "cell_type": "code",
      "execution_count": 26,
      "id": "04f6862d",
      "metadata": {
        "colab": {
          "base_uri": "https://localhost:8080/"
        },
        "id": "04f6862d",
        "outputId": "63019555-774d-4c3c-a16b-68b33ed54c7b"
      },
      "outputs": [
        {
          "data": {
            "text/plain": [
              "9632931                                                NaN\n",
              "9632932    sex|male frontal nudity|prostitution|perversity\n",
              "9632933                                     color in title\n",
              "9632934                                                NaN\n",
              "9632935         murder|serial killer|peeping|female nudity\n",
              "                                ...                       \n",
              "9633026                                                NaN\n",
              "9633027      janitor|income|housing problem|social problem\n",
              "9633028                                                NaN\n",
              "9633029                     soldier|italy|partisan|fascist\n",
              "9633030             genius|artist|greek american|direction\n",
              "Name: plot_keywords, Length: 100, dtype: object"
            ]
          },
          "execution_count": 26,
          "metadata": {},
          "output_type": "execute_result"
        }
      ],
      "source": [
        "# View keywords\n",
        "df_train3['plot_keywords'].tail(100)"
      ]
    },
    {
      "cell_type": "code",
      "execution_count": 27,
      "id": "4b83bd61",
      "metadata": {
        "colab": {
          "base_uri": "https://localhost:8080/"
        },
        "id": "4b83bd61",
        "outputId": "57c9076f-ac38-401c-ab2e-037946f8595f"
      },
      "outputs": [
        {
          "data": {
            "text/plain": [
              "array([4. , 4.5, 5. , 2. , 3. , 1. , 3.5, 2.5, 0.5, 1.5])"
            ]
          },
          "execution_count": 27,
          "metadata": {},
          "output_type": "execute_result"
        }
      ],
      "source": [
        "# Extract unique values from rating column\n",
        "train['rating'].unique()"
      ]
    },
    {
      "cell_type": "markdown",
      "id": "217b6299",
      "metadata": {
        "id": "217b6299"
      },
      "source": [
        "**Merging More Datasets**"
      ]
    },
    {
      "cell_type": "code",
      "execution_count": 28,
      "id": "c8bedaa2",
      "metadata": {
        "colab": {
          "base_uri": "https://localhost:8080/",
          "height": 81
        },
        "id": "c8bedaa2",
        "outputId": "bf2817f7-08cc-4a6c-e355-ed3e3746bd63"
      },
      "outputs": [
        {
          "data": {
            "text/html": [
              "<div>\n",
              "<style scoped>\n",
              "    .dataframe tbody tr th:only-of-type {\n",
              "        vertical-align: middle;\n",
              "    }\n",
              "\n",
              "    .dataframe tbody tr th {\n",
              "        vertical-align: top;\n",
              "    }\n",
              "\n",
              "    .dataframe thead th {\n",
              "        text-align: right;\n",
              "    }\n",
              "</style>\n",
              "<table border=\"1\" class=\"dataframe\">\n",
              "  <thead>\n",
              "    <tr style=\"text-align: right;\">\n",
              "      <th></th>\n",
              "      <th>userId</th>\n",
              "      <th>movieId</th>\n",
              "      <th>rating</th>\n",
              "      <th>timestamp</th>\n",
              "      <th>title_cast</th>\n",
              "      <th>director</th>\n",
              "      <th>runtime</th>\n",
              "      <th>budget</th>\n",
              "      <th>plot_keywords</th>\n",
              "    </tr>\n",
              "  </thead>\n",
              "  <tbody>\n",
              "    <tr>\n",
              "      <th>0</th>\n",
              "      <td>5163</td>\n",
              "      <td>57669</td>\n",
              "      <td>4.0</td>\n",
              "      <td>1518349992</td>\n",
              "      <td>Elizabeth Berrington|Rudy Blomme|Olivier Bonjo...</td>\n",
              "      <td>Martin McDonagh</td>\n",
              "      <td>107.0</td>\n",
              "      <td>$15,000,000</td>\n",
              "      <td>dwarf|bruges|irish|hitman</td>\n",
              "    </tr>\n",
              "  </tbody>\n",
              "</table>\n",
              "</div>"
            ],
            "text/plain": [
              "   userId  movieId  rating   timestamp  \\\n",
              "0    5163    57669     4.0  1518349992   \n",
              "\n",
              "                                          title_cast         director  \\\n",
              "0  Elizabeth Berrington|Rudy Blomme|Olivier Bonjo...  Martin McDonagh   \n",
              "\n",
              "   runtime       budget              plot_keywords  \n",
              "0    107.0  $15,000,000  dwarf|bruges|irish|hitman  "
            ]
          },
          "execution_count": 28,
          "metadata": {},
          "output_type": "execute_result"
        }
      ],
      "source": [
        "# Merging the dataset with that of the imbd\n",
        "df_tain2 = df_train.merge(imdb_data, on=\"movieId\")\n",
        "df_train2.head(1)"
      ]
    },
    {
      "cell_type": "code",
      "execution_count": 29,
      "id": "f82cd1dc",
      "metadata": {
        "colab": {
          "base_uri": "https://localhost:8080/",
          "height": 293
        },
        "id": "f82cd1dc",
        "outputId": "cec879f6-b03b-42aa-b0d4-34f9c25cad8a"
      },
      "outputs": [
        {
          "data": {
            "text/html": [
              "<div>\n",
              "<style scoped>\n",
              "    .dataframe tbody tr th:only-of-type {\n",
              "        vertical-align: middle;\n",
              "    }\n",
              "\n",
              "    .dataframe tbody tr th {\n",
              "        vertical-align: top;\n",
              "    }\n",
              "\n",
              "    .dataframe thead th {\n",
              "        text-align: right;\n",
              "    }\n",
              "</style>\n",
              "<table border=\"1\" class=\"dataframe\">\n",
              "  <thead>\n",
              "    <tr style=\"text-align: right;\">\n",
              "      <th></th>\n",
              "      <th>userId</th>\n",
              "      <th>movieId</th>\n",
              "      <th>rating</th>\n",
              "      <th>timestamp</th>\n",
              "      <th>title</th>\n",
              "      <th>genres</th>\n",
              "      <th>title_cast</th>\n",
              "      <th>director</th>\n",
              "      <th>runtime</th>\n",
              "      <th>budget</th>\n",
              "      <th>plot_keywords</th>\n",
              "    </tr>\n",
              "  </thead>\n",
              "  <tbody>\n",
              "    <tr>\n",
              "      <th>0</th>\n",
              "      <td>5163</td>\n",
              "      <td>57669</td>\n",
              "      <td>4.0</td>\n",
              "      <td>1518349992</td>\n",
              "      <td>In Bruges (2008)</td>\n",
              "      <td>Comedy|Crime|Drama|Thriller</td>\n",
              "      <td>Elizabeth Berrington|Rudy Blomme|Olivier Bonjo...</td>\n",
              "      <td>Martin McDonagh</td>\n",
              "      <td>107.0</td>\n",
              "      <td>$15,000,000</td>\n",
              "      <td>dwarf|bruges|irish|hitman</td>\n",
              "    </tr>\n",
              "    <tr>\n",
              "      <th>1</th>\n",
              "      <td>87388</td>\n",
              "      <td>57669</td>\n",
              "      <td>3.5</td>\n",
              "      <td>1237455297</td>\n",
              "      <td>In Bruges (2008)</td>\n",
              "      <td>Comedy|Crime|Drama|Thriller</td>\n",
              "      <td>Elizabeth Berrington|Rudy Blomme|Olivier Bonjo...</td>\n",
              "      <td>Martin McDonagh</td>\n",
              "      <td>107.0</td>\n",
              "      <td>$15,000,000</td>\n",
              "      <td>dwarf|bruges|irish|hitman</td>\n",
              "    </tr>\n",
              "    <tr>\n",
              "      <th>2</th>\n",
              "      <td>137050</td>\n",
              "      <td>57669</td>\n",
              "      <td>4.0</td>\n",
              "      <td>1425631854</td>\n",
              "      <td>In Bruges (2008)</td>\n",
              "      <td>Comedy|Crime|Drama|Thriller</td>\n",
              "      <td>Elizabeth Berrington|Rudy Blomme|Olivier Bonjo...</td>\n",
              "      <td>Martin McDonagh</td>\n",
              "      <td>107.0</td>\n",
              "      <td>$15,000,000</td>\n",
              "      <td>dwarf|bruges|irish|hitman</td>\n",
              "    </tr>\n",
              "    <tr>\n",
              "      <th>3</th>\n",
              "      <td>120490</td>\n",
              "      <td>57669</td>\n",
              "      <td>4.5</td>\n",
              "      <td>1408228517</td>\n",
              "      <td>In Bruges (2008)</td>\n",
              "      <td>Comedy|Crime|Drama|Thriller</td>\n",
              "      <td>Elizabeth Berrington|Rudy Blomme|Olivier Bonjo...</td>\n",
              "      <td>Martin McDonagh</td>\n",
              "      <td>107.0</td>\n",
              "      <td>$15,000,000</td>\n",
              "      <td>dwarf|bruges|irish|hitman</td>\n",
              "    </tr>\n",
              "    <tr>\n",
              "      <th>4</th>\n",
              "      <td>50616</td>\n",
              "      <td>57669</td>\n",
              "      <td>4.5</td>\n",
              "      <td>1446941640</td>\n",
              "      <td>In Bruges (2008)</td>\n",
              "      <td>Comedy|Crime|Drama|Thriller</td>\n",
              "      <td>Elizabeth Berrington|Rudy Blomme|Olivier Bonjo...</td>\n",
              "      <td>Martin McDonagh</td>\n",
              "      <td>107.0</td>\n",
              "      <td>$15,000,000</td>\n",
              "      <td>dwarf|bruges|irish|hitman</td>\n",
              "    </tr>\n",
              "  </tbody>\n",
              "</table>\n",
              "</div>"
            ],
            "text/plain": [
              "   userId  movieId  rating   timestamp             title  \\\n",
              "0    5163    57669     4.0  1518349992  In Bruges (2008)   \n",
              "1   87388    57669     3.5  1237455297  In Bruges (2008)   \n",
              "2  137050    57669     4.0  1425631854  In Bruges (2008)   \n",
              "3  120490    57669     4.5  1408228517  In Bruges (2008)   \n",
              "4   50616    57669     4.5  1446941640  In Bruges (2008)   \n",
              "\n",
              "                        genres  \\\n",
              "0  Comedy|Crime|Drama|Thriller   \n",
              "1  Comedy|Crime|Drama|Thriller   \n",
              "2  Comedy|Crime|Drama|Thriller   \n",
              "3  Comedy|Crime|Drama|Thriller   \n",
              "4  Comedy|Crime|Drama|Thriller   \n",
              "\n",
              "                                          title_cast         director  \\\n",
              "0  Elizabeth Berrington|Rudy Blomme|Olivier Bonjo...  Martin McDonagh   \n",
              "1  Elizabeth Berrington|Rudy Blomme|Olivier Bonjo...  Martin McDonagh   \n",
              "2  Elizabeth Berrington|Rudy Blomme|Olivier Bonjo...  Martin McDonagh   \n",
              "3  Elizabeth Berrington|Rudy Blomme|Olivier Bonjo...  Martin McDonagh   \n",
              "4  Elizabeth Berrington|Rudy Blomme|Olivier Bonjo...  Martin McDonagh   \n",
              "\n",
              "   runtime       budget              plot_keywords  \n",
              "0    107.0  $15,000,000  dwarf|bruges|irish|hitman  \n",
              "1    107.0  $15,000,000  dwarf|bruges|irish|hitman  \n",
              "2    107.0  $15,000,000  dwarf|bruges|irish|hitman  \n",
              "3    107.0  $15,000,000  dwarf|bruges|irish|hitman  \n",
              "4    107.0  $15,000,000  dwarf|bruges|irish|hitman  "
            ]
          },
          "execution_count": 29,
          "metadata": {},
          "output_type": "execute_result"
        }
      ],
      "source": [
        "# Merging the merge data earlier on with the df_imbd\n",
        "df_train3 = df_train1.merge(imdb_data, on=\"movieId\" )\n",
        "df_train3.head()"
      ]
    },
    {
      "cell_type": "markdown",
      "id": "59f0dc26",
      "metadata": {
        "id": "59f0dc26"
      },
      "source": [
        "# Exploratory data analysis(EDA)"
      ]
    },
    {
      "cell_type": "code",
      "execution_count": 30,
      "id": "2fc0d237",
      "metadata": {
        "colab": {
          "base_uri": "https://localhost:8080/"
        },
        "id": "2fc0d237",
        "outputId": "c63af7e3-9574-420a-935f-264651af6a5e"
      },
      "outputs": [
        {
          "data": {
            "text/plain": [
              "count    1.000004e+07\n",
              "mean     3.533395e+00\n",
              "std      1.061124e+00\n",
              "min      5.000000e-01\n",
              "25%      3.000000e+00\n",
              "50%      3.500000e+00\n",
              "75%      4.000000e+00\n",
              "max      5.000000e+00\n",
              "Name: rating, dtype: float64"
            ]
          },
          "execution_count": 30,
          "metadata": {},
          "output_type": "execute_result"
        }
      ],
      "source": [
        "train['rating'].describe()"
      ]
    },
    {
      "cell_type": "code",
      "execution_count": 31,
      "id": "c3379ba6",
      "metadata": {},
      "outputs": [
        {
          "name": "stdout",
          "output_type": "stream",
          "text": [
            "<class 'pandas.core.frame.DataFrame'>\n",
            "RangeIndex: 10000038 entries, 0 to 10000037\n",
            "Data columns (total 4 columns):\n",
            " #   Column     Dtype  \n",
            "---  ------     -----  \n",
            " 0   userId     int64  \n",
            " 1   movieId    int64  \n",
            " 2   rating     float64\n",
            " 3   timestamp  int64  \n",
            "dtypes: float64(1), int64(3)\n",
            "memory usage: 305.2 MB\n"
          ]
        }
      ],
      "source": [
        "train.info()"
      ]
    },
    {
      "cell_type": "code",
      "execution_count": 32,
      "id": "1c0ce058",
      "metadata": {
        "id": "1c0ce058"
      },
      "outputs": [],
      "source": [
        "data = df_train1['rating'].value_counts().sort_index(ascending=False)"
      ]
    },
    {
      "cell_type": "markdown",
      "id": "e6febd3d",
      "metadata": {
        "id": "e6febd3d"
      },
      "source": [
        "**Observations:**\n",
        "\n",
        "* We can observe that a high percentage of our movies were rated above average i.e above 3\n",
        "* A low percentage were below 3\n",
        "\n",
        "**Recommendations:**\n",
        "\n",
        "* More movies are high quality perhaps people are watching movies that are recommended to them, either by their social groups or the recommender system itself."
      ]
    },
    {
      "cell_type": "code",
      "execution_count": 33,
      "id": "10ca17df",
      "metadata": {
        "id": "10ca17df"
      },
      "outputs": [],
      "source": [
        "df_train3.rename(columns={'rating_x': 'rating', 'rating_y': 'numRatings'}, inplace=True)\n",
        "#Create dataframe\n",
        "num_ratings = pd.DataFrame(df_train3.groupby('movieId').count()['rating']).reset_index()\n",
        "#merge num ratings with df_train3\n",
        "df_train3 = pd.merge(left=df_train3, right=num_ratings, on='movieId')\n",
        "# rename columns\n",
        "df_train3.rename(columns={'rating_x': 'rating', 'rating_y': 'numRatings'}, inplace=True)"
      ]
    },
    {
      "cell_type": "code",
      "execution_count": 34,
      "id": "4698d043",
      "metadata": {
        "id": "4698d043"
      },
      "outputs": [],
      "source": [
        "# pre_process the budget column\n",
        "# Convert 'budget' column to string type\n",
        "df_train3[\"budget\"] = df_train3[\"budget\"].astype(str)\n",
        "\n",
        "# Remove commas\n",
        "df_train3[\"budget\"] = df_train3[\"budget\"].str.replace(\",\", \"\")\n",
        "\n",
        "# Extract numerical values\n",
        "df_train3[\"budget\"] = df_train3[\"budget\"].str.extract(\"(\\d+)\", expand=False)\n",
        "\n",
        "# Convert the feature into a float\n",
        "df_train3[\"budget\"] = df_train3[\"budget\"].astype(float)\n",
        "\n",
        "# Remove nan values and replace with 0\n",
        "df_train3[\"budget\"] = df_train3[\"budget\"].replace(np.nan, 0)\n",
        "\n",
        "# Convert the feature into an integer\n",
        "df_train3[\"budget\"] = df_train3[\"budget\"].astype(int)"
      ]
    },
    {
      "cell_type": "code",
      "execution_count": 35,
      "id": "6a03b54c",
      "metadata": {
        "colab": {
          "base_uri": "https://localhost:8080/",
          "height": 236
        },
        "id": "6a03b54c",
        "outputId": "d9dc9f52-ddb5-4958-dae4-02a08ee2f189"
      },
      "outputs": [
        {
          "data": {
            "text/html": [
              "<div>\n",
              "<style scoped>\n",
              "    .dataframe tbody tr th:only-of-type {\n",
              "        vertical-align: middle;\n",
              "    }\n",
              "\n",
              "    .dataframe tbody tr th {\n",
              "        vertical-align: top;\n",
              "    }\n",
              "\n",
              "    .dataframe thead th {\n",
              "        text-align: right;\n",
              "    }\n",
              "</style>\n",
              "<table border=\"1\" class=\"dataframe\">\n",
              "  <thead>\n",
              "    <tr style=\"text-align: right;\">\n",
              "      <th></th>\n",
              "      <th>userId</th>\n",
              "      <th>movieId</th>\n",
              "      <th>rating</th>\n",
              "      <th>timestamp</th>\n",
              "      <th>title</th>\n",
              "      <th>genres</th>\n",
              "      <th>title_cast</th>\n",
              "      <th>director</th>\n",
              "      <th>runtime</th>\n",
              "      <th>budget</th>\n",
              "      <th>plot_keywords</th>\n",
              "      <th>numRatings</th>\n",
              "      <th>release_year</th>\n",
              "    </tr>\n",
              "  </thead>\n",
              "  <tbody>\n",
              "    <tr>\n",
              "      <th>0</th>\n",
              "      <td>5163</td>\n",
              "      <td>57669</td>\n",
              "      <td>4.0</td>\n",
              "      <td>1518349992</td>\n",
              "      <td>In Bruges (2008)</td>\n",
              "      <td>Comedy|Crime|Drama|Thriller</td>\n",
              "      <td>Elizabeth Berrington|Rudy Blomme|Olivier Bonjo...</td>\n",
              "      <td>Martin McDonagh</td>\n",
              "      <td>107.0</td>\n",
              "      <td>15000000</td>\n",
              "      <td>dwarf|bruges|irish|hitman</td>\n",
              "      <td>4253</td>\n",
              "      <td>2008</td>\n",
              "    </tr>\n",
              "    <tr>\n",
              "      <th>1</th>\n",
              "      <td>87388</td>\n",
              "      <td>57669</td>\n",
              "      <td>3.5</td>\n",
              "      <td>1237455297</td>\n",
              "      <td>In Bruges (2008)</td>\n",
              "      <td>Comedy|Crime|Drama|Thriller</td>\n",
              "      <td>Elizabeth Berrington|Rudy Blomme|Olivier Bonjo...</td>\n",
              "      <td>Martin McDonagh</td>\n",
              "      <td>107.0</td>\n",
              "      <td>15000000</td>\n",
              "      <td>dwarf|bruges|irish|hitman</td>\n",
              "      <td>4253</td>\n",
              "      <td>2008</td>\n",
              "    </tr>\n",
              "  </tbody>\n",
              "</table>\n",
              "</div>"
            ],
            "text/plain": [
              "   userId  movieId  rating   timestamp             title  \\\n",
              "0    5163    57669     4.0  1518349992  In Bruges (2008)   \n",
              "1   87388    57669     3.5  1237455297  In Bruges (2008)   \n",
              "\n",
              "                        genres  \\\n",
              "0  Comedy|Crime|Drama|Thriller   \n",
              "1  Comedy|Crime|Drama|Thriller   \n",
              "\n",
              "                                          title_cast         director  \\\n",
              "0  Elizabeth Berrington|Rudy Blomme|Olivier Bonjo...  Martin McDonagh   \n",
              "1  Elizabeth Berrington|Rudy Blomme|Olivier Bonjo...  Martin McDonagh   \n",
              "\n",
              "   runtime    budget              plot_keywords  numRatings release_year  \n",
              "0    107.0  15000000  dwarf|bruges|irish|hitman        4253         2008  \n",
              "1    107.0  15000000  dwarf|bruges|irish|hitman        4253         2008  "
            ]
          },
          "execution_count": 35,
          "metadata": {},
          "output_type": "execute_result"
        }
      ],
      "source": [
        "df_train3#extracting date from title column\n",
        "df_train3['release_year'] = df_train3.title.str.extract('(\\(\\d\\d\\d\\d\\))', expand=False)\n",
        "\n",
        "#adding date to realse year column\n",
        "df_train3['release_year'] = df_train3.release_year.str.extract('(\\d\\d\\d\\d)', expand=False)\n",
        "\n",
        "df_train3.head(2)"
      ]
    },
    {
      "cell_type": "code",
      "execution_count": 36,
      "id": "b8f20e64",
      "metadata": {
        "colab": {
          "base_uri": "https://localhost:8080/"
        },
        "id": "b8f20e64",
        "outputId": "de2e09f3-64a3-49f0-f1de-f3f3df6b8d1a"
      },
      "outputs": [
        {
          "name": "stdout",
          "output_type": "stream",
          "text": [
            "<class 'pandas.core.series.Series'>\n",
            "RangeIndex: 9633031 entries, 0 to 9633030\n",
            "Series name: release_year\n",
            "Non-Null Count    Dtype \n",
            "--------------    ----- \n",
            "9633005 non-null  object\n",
            "dtypes: object(1)\n",
            "memory usage: 73.5+ MB\n"
          ]
        }
      ],
      "source": [
        "df_train3['release_year'].info()"
      ]
    },
    {
      "cell_type": "code",
      "execution_count": 37,
      "id": "20ad890c",
      "metadata": {
        "colab": {
          "base_uri": "https://localhost:8080/",
          "height": 254
        },
        "id": "20ad890c",
        "outputId": "573ab5cb-076b-4e65-9556-73c450a36200"
      },
      "outputs": [
        {
          "data": {
            "text/html": [
              "<div>\n",
              "<style scoped>\n",
              "    .dataframe tbody tr th:only-of-type {\n",
              "        vertical-align: middle;\n",
              "    }\n",
              "\n",
              "    .dataframe tbody tr th {\n",
              "        vertical-align: top;\n",
              "    }\n",
              "\n",
              "    .dataframe thead th {\n",
              "        text-align: right;\n",
              "    }\n",
              "</style>\n",
              "<table border=\"1\" class=\"dataframe\">\n",
              "  <thead>\n",
              "    <tr style=\"text-align: right;\">\n",
              "      <th></th>\n",
              "      <th>userId</th>\n",
              "      <th>movieId</th>\n",
              "      <th>rating</th>\n",
              "      <th>timestamp</th>\n",
              "      <th>title</th>\n",
              "      <th>genres</th>\n",
              "      <th>title_cast</th>\n",
              "      <th>director</th>\n",
              "      <th>runtime</th>\n",
              "      <th>budget</th>\n",
              "      <th>plot_keywords</th>\n",
              "      <th>numRatings</th>\n",
              "      <th>release_year</th>\n",
              "    </tr>\n",
              "  </thead>\n",
              "  <tbody>\n",
              "    <tr>\n",
              "      <th>0</th>\n",
              "      <td>5163</td>\n",
              "      <td>57669</td>\n",
              "      <td>4.0</td>\n",
              "      <td>1518349992</td>\n",
              "      <td>In Bruges (2008)</td>\n",
              "      <td>Comedy|Crime|Drama|Thriller</td>\n",
              "      <td>Elizabeth Berrington|Rudy Blomme|Olivier Bonjo...</td>\n",
              "      <td>Martin McDonagh</td>\n",
              "      <td>107.0</td>\n",
              "      <td>15000000</td>\n",
              "      <td>dwarf|bruges|irish|hitman</td>\n",
              "      <td>4253</td>\n",
              "      <td>2008</td>\n",
              "    </tr>\n",
              "    <tr>\n",
              "      <th>4253</th>\n",
              "      <td>106343</td>\n",
              "      <td>5</td>\n",
              "      <td>4.5</td>\n",
              "      <td>1206238739</td>\n",
              "      <td>Father of the Bride Part II (1995)</td>\n",
              "      <td>Comedy</td>\n",
              "      <td>Steve Martin|Diane Keaton|Martin Short|Kimberl...</td>\n",
              "      <td>Albert Hackett</td>\n",
              "      <td>106.0</td>\n",
              "      <td>30000000</td>\n",
              "      <td>fatherhood|doberman|dog|mansion</td>\n",
              "      <td>4648</td>\n",
              "      <td>1995</td>\n",
              "    </tr>\n",
              "  </tbody>\n",
              "</table>\n",
              "</div>"
            ],
            "text/plain": [
              "      userId  movieId  rating   timestamp                               title  \\\n",
              "0       5163    57669     4.0  1518349992                    In Bruges (2008)   \n",
              "4253  106343        5     4.5  1206238739  Father of the Bride Part II (1995)   \n",
              "\n",
              "                           genres  \\\n",
              "0     Comedy|Crime|Drama|Thriller   \n",
              "4253                       Comedy   \n",
              "\n",
              "                                             title_cast         director  \\\n",
              "0     Elizabeth Berrington|Rudy Blomme|Olivier Bonjo...  Martin McDonagh   \n",
              "4253  Steve Martin|Diane Keaton|Martin Short|Kimberl...   Albert Hackett   \n",
              "\n",
              "      runtime    budget                    plot_keywords  numRatings  \\\n",
              "0       107.0  15000000        dwarf|bruges|irish|hitman        4253   \n",
              "4253    106.0  30000000  fatherhood|doberman|dog|mansion        4648   \n",
              "\n",
              "     release_year  \n",
              "0            2008  \n",
              "4253         1995  "
            ]
          },
          "execution_count": 37,
          "metadata": {},
          "output_type": "execute_result"
        }
      ],
      "source": [
        "#drop duplicates on dataframe\n",
        "data_1= df_train3.drop_duplicates('movieId')\n",
        "\n",
        "data_1.head(2)"
      ]
    },
    {
      "cell_type": "markdown",
      "id": "bd8d37d7",
      "metadata": {
        "id": "bd8d37d7"
      },
      "source": [
        "# Genres"
      ]
    },
    {
      "cell_type": "code",
      "execution_count": 38,
      "id": "9b31d932",
      "metadata": {
        "id": "9b31d932"
      },
      "outputs": [],
      "source": [
        "movies = movies.copy()"
      ]
    },
    {
      "cell_type": "code",
      "execution_count": 39,
      "id": "a2762283",
      "metadata": {
        "colab": {
          "base_uri": "https://localhost:8080/"
        },
        "id": "a2762283",
        "outputId": "ecb92bde-232e-4fe0-cdc8-ddc9bcbf58b7"
      },
      "outputs": [
        {
          "data": {
            "text/plain": [
              "[['Drama', 25606],\n",
              " ['Comedy', 16870],\n",
              " ['Thriller', 8654],\n",
              " ['Romance', 7719],\n",
              " ['Action', 7348]]"
            ]
          },
          "execution_count": 39,
          "metadata": {},
          "output_type": "execute_result"
        }
      ],
      "source": [
        "# Make a census of the genre keywords\n",
        "genre_labels = set()\n",
        "for s in movies['genres'].str.split('|').values:\n",
        "    genre_labels = genre_labels.union(set(s))\n",
        "\n",
        "# Function that counts the number of times each of the genre keywords appear\n",
        "def count_word(dataset, ref_col, census):\n",
        "    \"\"\"\n",
        "\n",
        "    This function counts the number of times each\n",
        "    of the genre keywords appear\n",
        "\n",
        "    Input : movies dataframe, column from dataframe,\n",
        "    label column from dataframe\n",
        "    datatype : dataframe\n",
        "\n",
        "    output : list\n",
        "\n",
        "    \"\"\"\n",
        "    keyword_count = dict()\n",
        "    for s in census:\n",
        "        keyword_count[s] = 0\n",
        "    for census_keywords in dataset[ref_col].str.split('|'):\n",
        "        if type(census_keywords) == float and pd.isnull(census_keywords):\n",
        "            continue\n",
        "        for s in [s for s in census_keywords if s in census]:\n",
        "            if pd.notnull(s):\n",
        "                keyword_count[s] += 1\n",
        "\n",
        "    # convert the dictionary in a list to sort the keywords by frequency\n",
        "    keyword_occurences = []\n",
        "    for k,v in keyword_count.items():\n",
        "        keyword_occurences.append([k,v])\n",
        "    keyword_occurences.sort(key = lambda x:x[1], reverse = True)\n",
        "    return keyword_occurences, keyword_count\n",
        "\n",
        "# Calling this function gives access to a list of genre keywords which are sorted by decreasing frequency\n",
        "keyword_occurences, dum = count_word(movies, 'genres', genre_labels)\n",
        "keyword_occurences[:5]"
      ]
    },
    {
      "cell_type": "code",
      "execution_count": 40,
      "id": "86ba0568",
      "metadata": {},
      "outputs": [
        {
          "data": {
            "image/png": "[encoded data removed]",
            "text/plain": [
              "<Figure size 1000x600 with 1 Axes>"
            ]
          },
          "metadata": {},
          "output_type": "display_data"
        }
      ],
      "source": [
        "# Make a census of the genre keywords\n",
        "genre_labels = set()\n",
        "for s in movies[\"genres\"].str.split(\"|\").values:\n",
        "    genre_labels = genre_labels.union(set(s))\n",
        "\n",
        "\n",
        "# Function that counts the number of times each of the genre keywords appear\n",
        "def count_word_plotter(dataset, ref_col, census):\n",
        "    keyword_count = dict()\n",
        "    for s in census:\n",
        "        keyword_count[s] = 0\n",
        "    for census_keywords in dataset[ref_col].str.split(\"|\"):\n",
        "        if type(census_keywords) == float and pd.isnull(census_keywords):\n",
        "            continue\n",
        "        for s in [s for s in census_keywords if s in census]:\n",
        "            if pd.notnull(s):\n",
        "                keyword_count[s] += 1\n",
        "\n",
        "    # convert the dictionary in a list to sort the keywords by frequency\n",
        "    keyword_occurences = []\n",
        "    for k, v in keyword_count.items():\n",
        "        keyword_occurences.append([k, v])\n",
        "    keyword_occurences.sort(key=lambda x: x[1], reverse=True)\n",
        "    return keyword_occurences, keyword_count\n",
        "\n",
        "\n",
        "# Calling the function to get keyword occurrences\n",
        "keyword_occurences, dum = count_word_plotter(movies, \"genres\", genre_labels)\n",
        "\n",
        "# Extracting genre labels and counts\n",
        "genres = [genre[0] for genre in keyword_occurences[:8]]\n",
        "counts = [genre[1] for genre in keyword_occurences[:8]]\n",
        "\n",
        "# Plotting the bar graph\n",
        "plt.figure(figsize=(10, 6))\n",
        "plt.bar(genres, counts, color=\"skyblue\")\n",
        "plt.title(\"Top 5 Most Occurring Genres\")\n",
        "plt.xlabel(\"Genre\")\n",
        "plt.ylabel(\"Count\")\n",
        "plt.xticks(rotation=45)\n",
        "plt.grid(axis=\"y\", linestyle=\"--\", alpha=0.7)\n",
        "plt.tight_layout()\n",
        "plt.show()"
      ]
    },
    {
      "cell_type": "code",
      "execution_count": 41,
      "id": "e174d7aa",
      "metadata": {
        "colab": {
          "base_uri": "https://localhost:8080/",
          "height": 293
        },
        "id": "e174d7aa",
        "outputId": "a5026cf8-2b9d-4777-fe27-e3761e44fa26"
      },
      "outputs": [
        {
          "data": {
            "text/html": [
              "<div>\n",
              "<style scoped>\n",
              "    .dataframe tbody tr th:only-of-type {\n",
              "        vertical-align: middle;\n",
              "    }\n",
              "\n",
              "    .dataframe tbody tr th {\n",
              "        vertical-align: top;\n",
              "    }\n",
              "\n",
              "    .dataframe thead th {\n",
              "        text-align: right;\n",
              "    }\n",
              "</style>\n",
              "<table border=\"1\" class=\"dataframe\">\n",
              "  <thead>\n",
              "    <tr style=\"text-align: right;\">\n",
              "      <th></th>\n",
              "      <th>movieId</th>\n",
              "      <th>title_cast</th>\n",
              "      <th>director</th>\n",
              "      <th>plot_keywords</th>\n",
              "      <th>genres</th>\n",
              "      <th>title</th>\n",
              "    </tr>\n",
              "  </thead>\n",
              "  <tbody>\n",
              "    <tr>\n",
              "      <th>0</th>\n",
              "      <td>1</td>\n",
              "      <td>Tom Hanks|Tim Allen|Don Rickles|Jim Varney|Wal...</td>\n",
              "      <td>John Lasseter</td>\n",
              "      <td>toy|rivalry|cowboy|cgi animation</td>\n",
              "      <td>Adventure|Animation|Children|Comedy|Fantasy</td>\n",
              "      <td>Toy Story (1995)</td>\n",
              "    </tr>\n",
              "    <tr>\n",
              "      <th>1</th>\n",
              "      <td>2</td>\n",
              "      <td>Robin Williams|Jonathan Hyde|Kirsten Dunst|Bra...</td>\n",
              "      <td>Jonathan Hensleigh</td>\n",
              "      <td>board game|adventurer|fight|game</td>\n",
              "      <td>Adventure|Children|Fantasy</td>\n",
              "      <td>Jumanji (1995)</td>\n",
              "    </tr>\n",
              "    <tr>\n",
              "      <th>2</th>\n",
              "      <td>3</td>\n",
              "      <td>Walter Matthau|Jack Lemmon|Sophia Loren|Ann-Ma...</td>\n",
              "      <td>Mark Steven Johnson</td>\n",
              "      <td>boat|lake|neighbor|rivalry</td>\n",
              "      <td>Comedy|Romance</td>\n",
              "      <td>Grumpier Old Men (1995)</td>\n",
              "    </tr>\n",
              "    <tr>\n",
              "      <th>3</th>\n",
              "      <td>4</td>\n",
              "      <td>Whitney Houston|Angela Bassett|Loretta Devine|...</td>\n",
              "      <td>Terry McMillan</td>\n",
              "      <td>black american|husband wife relationship|betra...</td>\n",
              "      <td>Comedy|Drama|Romance</td>\n",
              "      <td>Waiting to Exhale (1995)</td>\n",
              "    </tr>\n",
              "    <tr>\n",
              "      <th>4</th>\n",
              "      <td>5</td>\n",
              "      <td>Steve Martin|Diane Keaton|Martin Short|Kimberl...</td>\n",
              "      <td>Albert Hackett</td>\n",
              "      <td>fatherhood|doberman|dog|mansion</td>\n",
              "      <td>Comedy</td>\n",
              "      <td>Father of the Bride Part II (1995)</td>\n",
              "    </tr>\n",
              "  </tbody>\n",
              "</table>\n",
              "</div>"
            ],
            "text/plain": [
              "   movieId                                         title_cast  \\\n",
              "0        1  Tom Hanks|Tim Allen|Don Rickles|Jim Varney|Wal...   \n",
              "1        2  Robin Williams|Jonathan Hyde|Kirsten Dunst|Bra...   \n",
              "2        3  Walter Matthau|Jack Lemmon|Sophia Loren|Ann-Ma...   \n",
              "3        4  Whitney Houston|Angela Bassett|Loretta Devine|...   \n",
              "4        5  Steve Martin|Diane Keaton|Martin Short|Kimberl...   \n",
              "\n",
              "              director                                      plot_keywords  \\\n",
              "0        John Lasseter                   toy|rivalry|cowboy|cgi animation   \n",
              "1   Jonathan Hensleigh                   board game|adventurer|fight|game   \n",
              "2  Mark Steven Johnson                         boat|lake|neighbor|rivalry   \n",
              "3       Terry McMillan  black american|husband wife relationship|betra...   \n",
              "4       Albert Hackett                    fatherhood|doberman|dog|mansion   \n",
              "\n",
              "                                        genres  \\\n",
              "0  Adventure|Animation|Children|Comedy|Fantasy   \n",
              "1                   Adventure|Children|Fantasy   \n",
              "2                               Comedy|Romance   \n",
              "3                         Comedy|Drama|Romance   \n",
              "4                                       Comedy   \n",
              "\n",
              "                                title  \n",
              "0                    Toy Story (1995)  \n",
              "1                      Jumanji (1995)  \n",
              "2             Grumpier Old Men (1995)  \n",
              "3            Waiting to Exhale (1995)  \n",
              "4  Father of the Bride Part II (1995)  "
            ]
          },
          "execution_count": 41,
          "metadata": {},
          "output_type": "execute_result"
        }
      ],
      "source": [
        "df = imdb_data[['movieId','title_cast','director', 'plot_keywords']]\n",
        "df = df.merge(movies[['movieId', 'genres', 'title']], on='movieId', how='inner')\n",
        "df.head()"
      ]
    },
    {
      "cell_type": "code",
      "execution_count": 121,
      "id": "d2809bc1",
      "metadata": {
        "colab": {
          "base_uri": "https://localhost:8080/",
          "height": 293
        },
        "id": "d2809bc1",
        "outputId": "ab0fbc55-f330-457c-e8ea-ff374222f2ac"
      },
      "outputs": [
        {
          "data": {
            "text/html": [
              "<div>\n",
              "<style scoped>\n",
              "    .dataframe tbody tr th:only-of-type {\n",
              "        vertical-align: middle;\n",
              "    }\n",
              "\n",
              "    .dataframe tbody tr th {\n",
              "        vertical-align: top;\n",
              "    }\n",
              "\n",
              "    .dataframe thead th {\n",
              "        text-align: right;\n",
              "    }\n",
              "</style>\n",
              "<table border=\"1\" class=\"dataframe\">\n",
              "  <thead>\n",
              "    <tr style=\"text-align: right;\">\n",
              "      <th></th>\n",
              "      <th>movieId</th>\n",
              "      <th>title_cast</th>\n",
              "      <th>director</th>\n",
              "      <th>plot_keywords</th>\n",
              "      <th>genres</th>\n",
              "      <th>title</th>\n",
              "    </tr>\n",
              "  </thead>\n",
              "  <tbody>\n",
              "    <tr>\n",
              "      <th>0</th>\n",
              "      <td>1</td>\n",
              "      <td>[tomhanks, timallen, donrickles]</td>\n",
              "      <td>johnlasseter</td>\n",
              "      <td>toy rivalry cowboy cgi animation</td>\n",
              "      <td>adventure animation children comedy fantasy</td>\n",
              "      <td>Toy Story (1995)</td>\n",
              "    </tr>\n",
              "    <tr>\n",
              "      <th>1</th>\n",
              "      <td>2</td>\n",
              "      <td>[robinwilliams, jonathanhyde, kirstendunst]</td>\n",
              "      <td>jonathanhensleigh</td>\n",
              "      <td>board game adventurer fight game</td>\n",
              "      <td>adventure children fantasy</td>\n",
              "      <td>Jumanji (1995)</td>\n",
              "    </tr>\n",
              "    <tr>\n",
              "      <th>2</th>\n",
              "      <td>3</td>\n",
              "      <td>[waltermatthau, jacklemmon, sophialoren]</td>\n",
              "      <td>markstevenjohnson</td>\n",
              "      <td>boat lake neighbor rivalry</td>\n",
              "      <td>comedy romance</td>\n",
              "      <td>Grumpier Old Men (1995)</td>\n",
              "    </tr>\n",
              "    <tr>\n",
              "      <th>3</th>\n",
              "      <td>4</td>\n",
              "      <td>[whitneyhouston, angelabassett, lorettadevine]</td>\n",
              "      <td>terrymcmillan</td>\n",
              "      <td>black american husband wife relationship betra...</td>\n",
              "      <td>comedy drama romance</td>\n",
              "      <td>Waiting to Exhale (1995)</td>\n",
              "    </tr>\n",
              "    <tr>\n",
              "      <th>4</th>\n",
              "      <td>5</td>\n",
              "      <td>[stevemartin, dianekeaton, martinshort]</td>\n",
              "      <td>alberthackett</td>\n",
              "      <td>fatherhood doberman dog mansion</td>\n",
              "      <td>comedy</td>\n",
              "      <td>Father of the Bride Part II (1995)</td>\n",
              "    </tr>\n",
              "  </tbody>\n",
              "</table>\n",
              "</div>"
            ],
            "text/plain": [
              "   movieId                                      title_cast           director  \\\n",
              "0        1                [tomhanks, timallen, donrickles]       johnlasseter   \n",
              "1        2     [robinwilliams, jonathanhyde, kirstendunst]  jonathanhensleigh   \n",
              "2        3        [waltermatthau, jacklemmon, sophialoren]  markstevenjohnson   \n",
              "3        4  [whitneyhouston, angelabassett, lorettadevine]      terrymcmillan   \n",
              "4        5         [stevemartin, dianekeaton, martinshort]      alberthackett   \n",
              "\n",
              "                                       plot_keywords  \\\n",
              "0                   toy rivalry cowboy cgi animation   \n",
              "1                   board game adventurer fight game   \n",
              "2                         boat lake neighbor rivalry   \n",
              "3  black american husband wife relationship betra...   \n",
              "4                    fatherhood doberman dog mansion   \n",
              "\n",
              "                                        genres  \\\n",
              "0  adventure animation children comedy fantasy   \n",
              "1                   adventure children fantasy   \n",
              "2                               comedy romance   \n",
              "3                         comedy drama romance   \n",
              "4                                       comedy   \n",
              "\n",
              "                                title  \n",
              "0                    Toy Story (1995)  \n",
              "1                      Jumanji (1995)  \n",
              "2             Grumpier Old Men (1995)  \n",
              "3            Waiting to Exhale (1995)  \n",
              "4  Father of the Bride Part II (1995)  "
            ]
          },
          "execution_count": 121,
          "metadata": {},
          "output_type": "execute_result"
        }
      ],
      "source": [
        "# Convert data types to strings for string handling\n",
        "df['title_cast'] = df.title_cast.astype(str)\n",
        "df['plot_keywords'] = df.plot_keywords.astype(str)\n",
        "df['genres'] = df.genres.astype(str)\n",
        "df['director'] = df.director.astype(str)\n",
        "\n",
        "# Removing spaces between names\n",
        "df['director'] = df['director'].apply(lambda x: \"\".join(x.lower() for x in x.split()))\n",
        "df['title_cast'] = df['title_cast'].apply(lambda x: \"\".join(x.lower() for x in x.split()))\n",
        "\n",
        "# Discarding the pipes between the actors' full names and getting only the first three names\n",
        "df['title_cast'] = df['title_cast'].map(lambda x: x.split('|')[:3])\n",
        "\n",
        "# Discarding the pipes between the plot keywords' and getting only the first five words\n",
        "df['plot_keywords'] = df['plot_keywords'].map(lambda x: x.split('|')[:5])\n",
        "df['plot_keywords'] = df['plot_keywords'].apply(lambda x: \" \".join(x))\n",
        "\n",
        "# Discarding the pipes between the genres\n",
        "df['genres'] = df['genres'].map(lambda x: x.lower().split('|'))\n",
        "df['genres'] = df['genres'].apply(lambda x: \" \".join(x))\n",
        "\n",
        "df.head()"
      ]
    },
    {
      "cell_type": "markdown",
      "id": "5acc894a",
      "metadata": {
        "id": "5acc894a"
      },
      "source": [
        "# Genre Popularity"
      ]
    },
    {
      "cell_type": "code",
      "execution_count": 122,
      "id": "fa8cf0db",
      "metadata": {
        "colab": {
          "base_uri": "https://localhost:8080/",
          "height": 652
        },
        "id": "fa8cf0db",
        "outputId": "b1a44419-1c9a-494a-abec-ed682aa4df18"
      },
      "outputs": [
        {
          "data": {
            "image/png": "[encoded data removed]",
            "text/plain": [
              "<Figure size 1600x1000 with 1 Axes>"
            ]
          },
          "metadata": {},
          "output_type": "display_data"
        }
      ],
      "source": [
        "def most_watched(input_df):\n",
        "\n",
        "    \"\"\"\n",
        "\n",
        "    This function gives out the number of ratings\n",
        "    for each genre for each year since 1970\n",
        "\n",
        "    Input : dataframe\n",
        "    datatype : dataframe\n",
        "\n",
        "    output : Figure (bar graph)\n",
        "\n",
        "    \"\"\"\n",
        "    # Create a copy of the input dataframe and merge it to the movies dataframe\n",
        "    df = input_df.copy()\n",
        "    df = df.merge(movies,on='movieId',how='left')\n",
        "\n",
        "    # Create an empty dataframe\n",
        "    b = pd.DataFrame()\n",
        "\n",
        "    # Extract the timestamps and genres\n",
        "    timestamps = [timestamp for timestamp in df.timestamp]\n",
        "    all_genres = set(','.join([genres.replace('|',',') for genres in df.genres]).split(','))\n",
        "\n",
        "    # Get the number of ratings for each genre for each year since 1970\n",
        "    for index,genre in enumerate(all_genres):\n",
        "        a = pd.Series([int((timestamps[i]/31536000)+1970) for i,x in enumerate(df.genres) if genre in x])\n",
        "        a = a.value_counts()\n",
        "        b = pd.concat([b,pd.DataFrame({genre:a})],axis=1)\n",
        "\n",
        "    # Create trace\n",
        "    trace = go.Bar(x = data.index,\n",
        "    text = ['{:.1f} %'.format(val) for val in (data.values / df_train1.shape[0] * 100)],\n",
        "    textposition = 'auto',\n",
        "    textfont = dict(color = '#000000'),\n",
        "    y = data.values,\n",
        "    marker = dict(color = '#db0000'))\n",
        "\n",
        "    # Plot the trends for each genre on the same line graph\n",
        "    plt.figure(figsize=(16,10))\n",
        "    plot = sns.barplot(data=b, ci=None)\n",
        "\n",
        "    # Add plot labels\n",
        "    plt.title('Trends in genre popularity',fontsize=18)\n",
        "    plt.xlabel('Genres', fontsize=20)\n",
        "    plt.xticks(rotation=45, fontsize=11)\n",
        "    plt.yticks(fontsize=18)\n",
        "    plt.ylabel('Number of ratings', fontsize=18)\n",
        "\n",
        "    plt.show()\n",
        "\n",
        "    return\n",
        "\n",
        "most_watched(train)"
      ]
    },
    {
      "cell_type": "markdown",
      "id": "931f004d",
      "metadata": {
        "id": "931f004d"
      },
      "source": [
        "**Insights:**\n",
        "\n",
        "Rating-Viewership Correlation:\n",
        "High ratings typically indicate high viewership.\n",
        "\n",
        "Top Genres by Views:\n",
        "Comedy, Drama, and Action genres consistently attract the most viewers.\n",
        "\n",
        "Recommendation:\n",
        "Prioritize producing movies in Comedy, Drama, and Action genres to maximize viewership and revenue."
      ]
    },
    {
      "cell_type": "markdown",
      "id": "be5bad24",
      "metadata": {
        "id": "be5bad24"
      },
      "source": [
        "# Popular Movies by Genre"
      ]
    },
    {
      "cell_type": "code",
      "execution_count": 124,
      "id": "0393bb99",
      "metadata": {
        "id": "0393bb99"
      },
      "outputs": [],
      "source": [
        "genre_df = pd.DataFrame(df_train3['genres'].str.split('|').tolist(), index=df_train3['movieId']).stack()\n",
        "genre_df = genre_df.reset_index([0, 'movieId'])\n",
        "genre_df.columns = ['movieId', 'Genre']"
      ]
    },
    {
      "cell_type": "markdown",
      "id": "da578fb6",
      "metadata": {
        "id": "da578fb6"
      },
      "source": [
        "# Movie Published per Year"
      ]
    },
    {
      "cell_type": "code",
      "execution_count": null,
      "id": "63397237",
      "metadata": {
        "id": "63397237"
      },
      "outputs": [
        {
          "name": "stdout",
          "output_type": "stream",
          "text": [
            "The Number of Movies Published each year: 713\n"
          ]
        },
        {
          "data": {
            "image/png": "[encoded data removed]",
            "text/plain": [
              "<Figure size 800x500 with 1 Axes>"
            ]
          },
          "metadata": {},
          "output_type": "display_data"
        }
      ],
      "source": [
        "# Create an empty list\n",
        "years = []\n",
        "# Finding the number of movies published in each year\n",
        "for title in df_train3['title']:\n",
        "    year_subset = title[-5:-1]\n",
        "    try: years.append(int(year_subset))\n",
        "    except: years.append(9999)\n",
        "# Create a new column in a dataframe.\n",
        "df_train3['moviePubYear'] = years\n",
        "print('The Number of Movies Published each year:',len(df_train3[df_train3['moviePubYear'] == 9999]))\n",
        "\n",
        "# Count the number of movies published each year\n",
        "movies_per_year = df_train3[\"moviePubYear\"].value_counts().sort_index()\n",
        "\n",
        "# Custom color palette for bars\n",
        "custom_colors = [\n",
        "    \"#FF5733\",\n",
        "    \"#FFC300\",\n",
        "    \"#FF5733\",\n",
        "    \"#FFC300\",\n",
        "    \"#FF5733\",\n",
        "    \"#FFC300\",\n",
        "    \"#FF5733\",\n",
        "    \"#FFC300\",\n",
        "]\n",
        "\n",
        "\n",
        "\n",
        "# Plotting the graph\n",
        "plt.figure(figsize=(8, 5))\n",
        "movies_per_year.plot(kind=\"bar\", color=\"skyblue\")\n",
        "plt.title(\"Number of Movies Published Each Year\")\n",
        "plt.xlabel(\"Year\")\n",
        "plt.ylabel(\"Number of Movies\")\n",
        "plt.xticks(rotation=45)\n",
        "\n",
        "# Set x-axis labels for every 10 years\n",
        "plt.xticks(range(0, len(movies_per_year), 5), movies_per_year.index[::5])\n",
        "\n",
        "plt.grid(axis=\"y\", linestyle=\"--\", alpha=0.7)\n",
        "plt.show()"
      ]
    },
    {
      "cell_type": "markdown",
      "id": "4d2e249e",
      "metadata": {
        "id": "4d2e249e"
      },
      "source": [
        "**Observations:**\n",
        "\n",
        "A downward trend in the annual production of movies has been noted since the year 2000.\n",
        "**Recommendations:**\n",
        "\n",
        "The specific causes for the reduction in movie releases are not definitively known, however, the economic downturns of 2000 and 2009 may have contributed to this trend."
      ]
    },
    {
      "cell_type": "code",
      "execution_count": null,
      "id": "1150fb8f",
      "metadata": {
        "id": "1150fb8f"
      },
      "outputs": [
        {
          "data": {
            "text/html": [
              "<div>\n",
              "<style scoped>\n",
              "    .dataframe tbody tr th:only-of-type {\n",
              "        vertical-align: middle;\n",
              "    }\n",
              "\n",
              "    .dataframe tbody tr th {\n",
              "        vertical-align: top;\n",
              "    }\n",
              "\n",
              "    .dataframe thead th {\n",
              "        text-align: right;\n",
              "    }\n",
              "</style>\n",
              "<table border=\"1\" class=\"dataframe\">\n",
              "  <thead>\n",
              "    <tr style=\"text-align: right;\">\n",
              "      <th></th>\n",
              "      <th>userId</th>\n",
              "      <th>movieId</th>\n",
              "      <th>rating</th>\n",
              "      <th>timestamp</th>\n",
              "      <th>title</th>\n",
              "      <th>genres</th>\n",
              "      <th>title_cast</th>\n",
              "      <th>director</th>\n",
              "      <th>runtime</th>\n",
              "      <th>budget</th>\n",
              "      <th>plot_keywords</th>\n",
              "      <th>numRatings</th>\n",
              "      <th>release_year</th>\n",
              "      <th>moviePubYear</th>\n",
              "    </tr>\n",
              "  </thead>\n",
              "  <tbody>\n",
              "    <tr>\n",
              "      <th>0</th>\n",
              "      <td>5163</td>\n",
              "      <td>57669</td>\n",
              "      <td>4.0</td>\n",
              "      <td>1518349992</td>\n",
              "      <td>In Bruges (2008)</td>\n",
              "      <td>Comedy|Crime|Drama|Thriller</td>\n",
              "      <td>Elizabeth Berrington|Rudy Blomme|Olivier Bonjo...</td>\n",
              "      <td>Martin McDonagh</td>\n",
              "      <td>107.0</td>\n",
              "      <td>15000000</td>\n",
              "      <td>dwarf|bruges|irish|hitman</td>\n",
              "      <td>4253</td>\n",
              "      <td>2008</td>\n",
              "      <td>2008</td>\n",
              "    </tr>\n",
              "    <tr>\n",
              "      <th>1</th>\n",
              "      <td>87388</td>\n",
              "      <td>57669</td>\n",
              "      <td>3.5</td>\n",
              "      <td>1237455297</td>\n",
              "      <td>In Bruges (2008)</td>\n",
              "      <td>Comedy|Crime|Drama|Thriller</td>\n",
              "      <td>Elizabeth Berrington|Rudy Blomme|Olivier Bonjo...</td>\n",
              "      <td>Martin McDonagh</td>\n",
              "      <td>107.0</td>\n",
              "      <td>15000000</td>\n",
              "      <td>dwarf|bruges|irish|hitman</td>\n",
              "      <td>4253</td>\n",
              "      <td>2008</td>\n",
              "      <td>2008</td>\n",
              "    </tr>\n",
              "  </tbody>\n",
              "</table>\n",
              "</div>"
            ],
            "text/plain": [
              "   userId  movieId  rating   timestamp             title  \\\n",
              "0    5163    57669     4.0  1518349992  In Bruges (2008)   \n",
              "1   87388    57669     3.5  1237455297  In Bruges (2008)   \n",
              "\n",
              "                        genres  \\\n",
              "0  Comedy|Crime|Drama|Thriller   \n",
              "1  Comedy|Crime|Drama|Thriller   \n",
              "\n",
              "                                          title_cast         director  \\\n",
              "0  Elizabeth Berrington|Rudy Blomme|Olivier Bonjo...  Martin McDonagh   \n",
              "1  Elizabeth Berrington|Rudy Blomme|Olivier Bonjo...  Martin McDonagh   \n",
              "\n",
              "   runtime    budget              plot_keywords  numRatings release_year  \\\n",
              "0    107.0  15000000  dwarf|bruges|irish|hitman        4253         2008   \n",
              "1    107.0  15000000  dwarf|bruges|irish|hitman        4253         2008   \n",
              "\n",
              "   moviePubYear  \n",
              "0          2008  \n",
              "1          2008  "
            ]
          },
          "execution_count": 48,
          "metadata": {},
          "output_type": "execute_result"
        }
      ],
      "source": [
        "df_train3.head(2)"
      ]
    },
    {
      "cell_type": "code",
      "execution_count": null,
      "id": "333450d7",
      "metadata": {
        "id": "333450d7"
      },
      "outputs": [
        {
          "data": {
            "text/html": [
              "<div>\n",
              "<style scoped>\n",
              "    .dataframe tbody tr th:only-of-type {\n",
              "        vertical-align: middle;\n",
              "    }\n",
              "\n",
              "    .dataframe tbody tr th {\n",
              "        vertical-align: top;\n",
              "    }\n",
              "\n",
              "    .dataframe thead th {\n",
              "        text-align: right;\n",
              "    }\n",
              "</style>\n",
              "<table border=\"1\" class=\"dataframe\">\n",
              "  <thead>\n",
              "    <tr style=\"text-align: right;\">\n",
              "      <th></th>\n",
              "      <th>director</th>\n",
              "      <th>title</th>\n",
              "    </tr>\n",
              "  </thead>\n",
              "  <tbody>\n",
              "    <tr>\n",
              "      <th>0</th>\n",
              "      <td>Luc Besson</td>\n",
              "      <td>26</td>\n",
              "    </tr>\n",
              "    <tr>\n",
              "      <th>1</th>\n",
              "      <td>See full summary</td>\n",
              "      <td>25</td>\n",
              "    </tr>\n",
              "    <tr>\n",
              "      <th>2</th>\n",
              "      <td>Woody Allen</td>\n",
              "      <td>25</td>\n",
              "    </tr>\n",
              "    <tr>\n",
              "      <th>3</th>\n",
              "      <td>Stephen King</td>\n",
              "      <td>23</td>\n",
              "    </tr>\n",
              "    <tr>\n",
              "      <th>4</th>\n",
              "      <td>William Shakespeare</td>\n",
              "      <td>18</td>\n",
              "    </tr>\n",
              "  </tbody>\n",
              "</table>\n",
              "</div>"
            ],
            "text/plain": [
              "              director  title\n",
              "0           Luc Besson     26\n",
              "1     See full summary     25\n",
              "2          Woody Allen     25\n",
              "3         Stephen King     23\n",
              "4  William Shakespeare     18"
            ]
          },
          "execution_count": 49,
          "metadata": {},
          "output_type": "execute_result"
        }
      ],
      "source": [
        "# Create a dataframe with the number of movies that the directors have made\n",
        "director_m = pd.DataFrame(data_1.groupby('director').count()['title'].sort_values(ascending=False)).reset_index()\n",
        "director_m.head()"
      ]
    },
    {
      "cell_type": "markdown",
      "id": "a83cf717",
      "metadata": {
        "id": "a83cf717"
      },
      "source": [
        "# Top Ten Budget Movies"
      ]
    },
    {
      "cell_type": "code",
      "execution_count": null,
      "id": "056fb303",
      "metadata": {
        "id": "056fb303"
      },
      "outputs": [
        {
          "data": {
            "image/png": "[encoded data removed]",
            "text/plain": [
              "<Figure size 1000x600 with 1 Axes>"
            ]
          },
          "metadata": {},
          "output_type": "display_data"
        }
      ],
      "source": [
        "# make a plot which contain top 10 highest budget movies.\n",
        "# sort the 'budget' column in decending order and store it in the new dataframe.\n",
        "info = pd.DataFrame(data_1[\"budget\"].sort_values(ascending=False))\n",
        "info[\"title\"] = data_1[\"title\"]\n",
        "data = list(map(str, (info[\"title\"])))\n",
        "\n",
        "# extract the top 10 budget movies data from the list and dataframe.\n",
        "x = list(data[:10])\n",
        "y = list(info[\"budget\"][:10])\n",
        "\n",
        "# Extract the top 10 budget movies data from the list and dataframe.\n",
        "top_10_movies = info.head(10)\n",
        "\n",
        "plt.figure(figsize=(10, 6))\n",
        "ax = sns.barplot(x=top_10_movies[\"budget\"], y=top_10_movies[\"title\"], palette=\"viridis\")\n",
        "ax.set_title(\"Top 10 Movies with Highest Budgets\", fontsize=15)\n",
        "ax.set_xlabel(\"Budget ($Miliion)\", fontsize=13)\n",
        "ax.set_ylabel(\"Movie Title\", fontsize=13)\n",
        "plt.show()"
      ]
    },
    {
      "cell_type": "markdown",
      "id": "98edefa3",
      "metadata": {
        "id": "98edefa3"
      },
      "source": [
        "**Observations:**\n",
        "\n",
        "This is a bar graph which shows the Top 10 high budget movies of which My Way is the Top budget Movie."
      ]
    },
    {
      "cell_type": "markdown",
      "id": "60de35ee",
      "metadata": {
        "id": "60de35ee"
      },
      "source": [
        "# Top Ten Longest Movies"
      ]
    },
    {
      "cell_type": "code",
      "execution_count": null,
      "id": "8dd61dc8",
      "metadata": {
        "id": "8dd61dc8"
      },
      "outputs": [
        {
          "data": {
            "image/png": "[encoded data removed]",
            "text/plain": [
              "<Figure size 1000x600 with 1 Axes>"
            ]
          },
          "metadata": {},
          "output_type": "display_data"
        }
      ],
      "source": [
        "# top 10 Movies With Longest runtime\n",
        "# sort the 'runtime' column in decending order and store it in the new dataframe.\n",
        "info = pd.DataFrame(data_1['runtime'].sort_values(ascending = False))\n",
        "info['title'] = data_1['title']\n",
        "data = list(map(str,(info['title'])))\n",
        "\n",
        "# Extract the top 10 longest duration movies data from the list and dataframe\n",
        "x = info[\"title\"][:10]\n",
        "y = info[\"runtime\"][:10]\n",
        "\n",
        "# Create the bar plot and setup the title and labels\n",
        "plt.figure(figsize=(10, 6))\n",
        "ax = sns.barplot(x=y, y=x, palette=\"viridis\")\n",
        "ax.set_title(\"Top 10 Longest Movies\", fontsize=15)\n",
        "ax.set_xlabel(\"Runtime (min)\", fontsize=13)\n",
        "ax.set_ylabel(\"Movie Title\", fontsize=13)\n",
        "plt.show()"
      ]
    },
    {
      "cell_type": "markdown",
      "id": "5e8096d2",
      "metadata": {
        "id": "5e8096d2"
      },
      "source": [
        "**Observations:**\n",
        "\n",
        "This is a bar graph which shows the top 10 longest movies of which Taken is the longest Movie."
      ]
    },
    {
      "cell_type": "markdown",
      "id": "444cf63b",
      "metadata": {
        "id": "444cf63b"
      },
      "source": [
        "# Correlation of Features"
      ]
    },
    {
      "cell_type": "code",
      "execution_count": null,
      "metadata": {},
      "outputs": [
        {
          "data": {
            "image/png": "[encoded data removed]",
            "text/plain": [
              "<Figure size 1200x1000 with 4 Axes>"
            ]
          },
          "metadata": {},
          "output_type": "display_data"
        }
      ],
      "source": [
        "def plot_correlation_map(df):\n",
        "    \"\"\"\n",
        "    This function generates a correlation map using all the features from the DataFrame.\n",
        "\n",
        "    Parameters:\n",
        "    df (DataFrame): Input DataFrame containing the features for correlation analysis.\n",
        "\n",
        "    Returns:\n",
        "    None (displays the plot)\n",
        "    \"\"\"\n",
        "    # Calculate correlation matrix\n",
        "    corr = df.corr()\n",
        "\n",
        "    # Create a diverging color palette\n",
        "    cmap = sns.diverging_palette(240, 10, as_cmap=True)\n",
        "\n",
        "    # Create a clustered heatmap\n",
        "    sns.clustermap(\n",
        "        corr,\n",
        "        cmap=cmap,\n",
        "        figsize=(12, 10),\n",
        "        annot=True,\n",
        "        annot_kws={\"fontsize\": 12},\n",
        "        cbar_kws={\"shrink\": 0.9},\n",
        "        square=True,\n",
        "    )\n",
        "\n",
        "\n",
        "# Call the function with relevant columns\n",
        "plot_correlation_map(\n",
        "    data_1[\n",
        "        [\"userId\", \"movieId\", \"rating\", \"timestamp\", \"budget\", \"runtime\", \"numRatings\"]\n",
        "    ]\n",
        ")"
      ]
    },
    {
      "cell_type": "markdown",
      "id": "ebdc0069",
      "metadata": {
        "id": "ebdc0069"
      },
      "source": [
        "## Correlation Analysis\n",
        "\n",
        "Upon examining the correlation matrix, we observe several insights:\n",
        "\n",
        "- There are no significant positive correlations among the features, except for a notable correlation between `timestamp` and `movieId`.\n",
        "\n",
        "- The strong correlation between `movieId` and `timestamp` is particularly interesting. This correlation may stem from the fact that movies have varying lengths and consequently do not conclude at precisely the same time.\n",
        "\n",
        "This analysis suggests that while most features do not exhibit strong correlations, the relationship between `timestamp` and `movieId` warrants further investigation due to its potential implications for understanding movie durations and viewing patterns.\n"
      ]
    },
    {
      "cell_type": "code",
      "execution_count": null,
      "id": "30ffac90",
      "metadata": {
        "id": "30ffac90"
      },
      "outputs": [],
      "source": [
        "# Create a copy of a dataframe\n",
        "movies_df = movies.copy()"
      ]
    },
    {
      "cell_type": "code",
      "execution_count": null,
      "id": "97855980",
      "metadata": {
        "id": "97855980"
      },
      "outputs": [
        {
          "data": {
            "text/html": [
              "<div>\n",
              "<style scoped>\n",
              "    .dataframe tbody tr th:only-of-type {\n",
              "        vertical-align: middle;\n",
              "    }\n",
              "\n",
              "    .dataframe tbody tr th {\n",
              "        vertical-align: top;\n",
              "    }\n",
              "\n",
              "    .dataframe thead th {\n",
              "        text-align: right;\n",
              "    }\n",
              "</style>\n",
              "<table border=\"1\" class=\"dataframe\">\n",
              "  <thead>\n",
              "    <tr style=\"text-align: right;\">\n",
              "      <th></th>\n",
              "      <th>movieId</th>\n",
              "      <th>title_cast</th>\n",
              "      <th>director</th>\n",
              "      <th>plot_keywords</th>\n",
              "      <th>genres</th>\n",
              "      <th>title</th>\n",
              "    </tr>\n",
              "  </thead>\n",
              "  <tbody>\n",
              "    <tr>\n",
              "      <th>0</th>\n",
              "      <td>1</td>\n",
              "      <td>Tom Hanks|Tim Allen|Don Rickles|Jim Varney|Wal...</td>\n",
              "      <td>John Lasseter</td>\n",
              "      <td>toy|rivalry|cowboy|cgi animation</td>\n",
              "      <td>Adventure|Animation|Children|Comedy|Fantasy</td>\n",
              "      <td>Toy Story (1995)</td>\n",
              "    </tr>\n",
              "    <tr>\n",
              "      <th>1</th>\n",
              "      <td>2</td>\n",
              "      <td>Robin Williams|Jonathan Hyde|Kirsten Dunst|Bra...</td>\n",
              "      <td>Jonathan Hensleigh</td>\n",
              "      <td>board game|adventurer|fight|game</td>\n",
              "      <td>Adventure|Children|Fantasy</td>\n",
              "      <td>Jumanji (1995)</td>\n",
              "    </tr>\n",
              "    <tr>\n",
              "      <th>2</th>\n",
              "      <td>3</td>\n",
              "      <td>Walter Matthau|Jack Lemmon|Sophia Loren|Ann-Ma...</td>\n",
              "      <td>Mark Steven Johnson</td>\n",
              "      <td>boat|lake|neighbor|rivalry</td>\n",
              "      <td>Comedy|Romance</td>\n",
              "      <td>Grumpier Old Men (1995)</td>\n",
              "    </tr>\n",
              "    <tr>\n",
              "      <th>3</th>\n",
              "      <td>4</td>\n",
              "      <td>Whitney Houston|Angela Bassett|Loretta Devine|...</td>\n",
              "      <td>Terry McMillan</td>\n",
              "      <td>black american|husband wife relationship|betra...</td>\n",
              "      <td>Comedy|Drama|Romance</td>\n",
              "      <td>Waiting to Exhale (1995)</td>\n",
              "    </tr>\n",
              "    <tr>\n",
              "      <th>4</th>\n",
              "      <td>5</td>\n",
              "      <td>Steve Martin|Diane Keaton|Martin Short|Kimberl...</td>\n",
              "      <td>Albert Hackett</td>\n",
              "      <td>fatherhood|doberman|dog|mansion</td>\n",
              "      <td>Comedy</td>\n",
              "      <td>Father of the Bride Part II (1995)</td>\n",
              "    </tr>\n",
              "  </tbody>\n",
              "</table>\n",
              "</div>"
            ],
            "text/plain": [
              "   movieId                                         title_cast  \\\n",
              "0        1  Tom Hanks|Tim Allen|Don Rickles|Jim Varney|Wal...   \n",
              "1        2  Robin Williams|Jonathan Hyde|Kirsten Dunst|Bra...   \n",
              "2        3  Walter Matthau|Jack Lemmon|Sophia Loren|Ann-Ma...   \n",
              "3        4  Whitney Houston|Angela Bassett|Loretta Devine|...   \n",
              "4        5  Steve Martin|Diane Keaton|Martin Short|Kimberl...   \n",
              "\n",
              "              director                                      plot_keywords  \\\n",
              "0        John Lasseter                   toy|rivalry|cowboy|cgi animation   \n",
              "1   Jonathan Hensleigh                   board game|adventurer|fight|game   \n",
              "2  Mark Steven Johnson                         boat|lake|neighbor|rivalry   \n",
              "3       Terry McMillan  black american|husband wife relationship|betra...   \n",
              "4       Albert Hackett                    fatherhood|doberman|dog|mansion   \n",
              "\n",
              "                                        genres  \\\n",
              "0  Adventure|Animation|Children|Comedy|Fantasy   \n",
              "1                   Adventure|Children|Fantasy   \n",
              "2                               Comedy|Romance   \n",
              "3                         Comedy|Drama|Romance   \n",
              "4                                       Comedy   \n",
              "\n",
              "                                title  \n",
              "0                    Toy Story (1995)  \n",
              "1                      Jumanji (1995)  \n",
              "2             Grumpier Old Men (1995)  \n",
              "3            Waiting to Exhale (1995)  \n",
              "4  Father of the Bride Part II (1995)  "
            ]
          },
          "execution_count": 54,
          "metadata": {},
          "output_type": "execute_result"
        }
      ],
      "source": [
        "# Merge two dataframes\n",
        "df_1 = imdb_data[[\"movieId\", \"title_cast\", \"director\", \"plot_keywords\"]]\n",
        "df_1 = df_1.merge(movies_df[[\"movieId\", \"genres\", \"title\"]], on=\"movieId\", how=\"inner\")\n",
        "df_1.head()"
      ]
    },
    {
      "cell_type": "code",
      "execution_count": null,
      "id": "7864774f",
      "metadata": {
        "id": "7864774f"
      },
      "outputs": [
        {
          "data": {
            "text/html": [
              "<div>\n",
              "<style scoped>\n",
              "    .dataframe tbody tr th:only-of-type {\n",
              "        vertical-align: middle;\n",
              "    }\n",
              "\n",
              "    .dataframe tbody tr th {\n",
              "        vertical-align: top;\n",
              "    }\n",
              "\n",
              "    .dataframe thead th {\n",
              "        text-align: right;\n",
              "    }\n",
              "</style>\n",
              "<table border=\"1\" class=\"dataframe\">\n",
              "  <thead>\n",
              "    <tr style=\"text-align: right;\">\n",
              "      <th></th>\n",
              "      <th>movieId</th>\n",
              "      <th>title_cast</th>\n",
              "      <th>director</th>\n",
              "      <th>plot_keywords</th>\n",
              "      <th>genres</th>\n",
              "      <th>title</th>\n",
              "    </tr>\n",
              "  </thead>\n",
              "  <tbody>\n",
              "    <tr>\n",
              "      <th>0</th>\n",
              "      <td>1</td>\n",
              "      <td>[['tomhanks','timallen','donrickles','jimvarne...</td>\n",
              "      <td>johnlasseter</td>\n",
              "      <td>toy rivalry cowboy cgi animation</td>\n",
              "      <td>adventure animation children comedy fantasy</td>\n",
              "      <td>Toy Story (1995)</td>\n",
              "    </tr>\n",
              "    <tr>\n",
              "      <th>1</th>\n",
              "      <td>2</td>\n",
              "      <td>[['robinwilliams','jonathanhyde','kirstendunst...</td>\n",
              "      <td>jonathanhensleigh</td>\n",
              "      <td>board game adventurer fight game</td>\n",
              "      <td>adventure children fantasy</td>\n",
              "      <td>Jumanji (1995)</td>\n",
              "    </tr>\n",
              "    <tr>\n",
              "      <th>2</th>\n",
              "      <td>3</td>\n",
              "      <td>[['waltermatthau','jacklemmon','sophialoren','...</td>\n",
              "      <td>markstevenjohnson</td>\n",
              "      <td>boat lake neighbor rivalry</td>\n",
              "      <td>comedy romance</td>\n",
              "      <td>Grumpier Old Men (1995)</td>\n",
              "    </tr>\n",
              "    <tr>\n",
              "      <th>3</th>\n",
              "      <td>4</td>\n",
              "      <td>[['whitneyhouston','angelabassett','lorettadev...</td>\n",
              "      <td>terrymcmillan</td>\n",
              "      <td>black american husband wife relationship betra...</td>\n",
              "      <td>comedy drama romance</td>\n",
              "      <td>Waiting to Exhale (1995)</td>\n",
              "    </tr>\n",
              "    <tr>\n",
              "      <th>4</th>\n",
              "      <td>5</td>\n",
              "      <td>[['stevemartin','dianekeaton','martinshort','k...</td>\n",
              "      <td>alberthackett</td>\n",
              "      <td>fatherhood doberman dog mansion</td>\n",
              "      <td>comedy</td>\n",
              "      <td>Father of the Bride Part II (1995)</td>\n",
              "    </tr>\n",
              "  </tbody>\n",
              "</table>\n",
              "</div>"
            ],
            "text/plain": [
              "   movieId                                         title_cast  \\\n",
              "0        1  [['tomhanks','timallen','donrickles','jimvarne...   \n",
              "1        2  [['robinwilliams','jonathanhyde','kirstendunst...   \n",
              "2        3  [['waltermatthau','jacklemmon','sophialoren','...   \n",
              "3        4  [['whitneyhouston','angelabassett','lorettadev...   \n",
              "4        5  [['stevemartin','dianekeaton','martinshort','k...   \n",
              "\n",
              "            director                                      plot_keywords  \\\n",
              "0       johnlasseter                   toy rivalry cowboy cgi animation   \n",
              "1  jonathanhensleigh                   board game adventurer fight game   \n",
              "2  markstevenjohnson                         boat lake neighbor rivalry   \n",
              "3      terrymcmillan  black american husband wife relationship betra...   \n",
              "4      alberthackett                    fatherhood doberman dog mansion   \n",
              "\n",
              "                                        genres  \\\n",
              "0  adventure animation children comedy fantasy   \n",
              "1                   adventure children fantasy   \n",
              "2                               comedy romance   \n",
              "3                         comedy drama romance   \n",
              "4                                       comedy   \n",
              "\n",
              "                                title  \n",
              "0                    Toy Story (1995)  \n",
              "1                      Jumanji (1995)  \n",
              "2             Grumpier Old Men (1995)  \n",
              "3            Waiting to Exhale (1995)  \n",
              "4  Father of the Bride Part II (1995)  "
            ]
          },
          "execution_count": 79,
          "metadata": {},
          "output_type": "execute_result"
        }
      ],
      "source": [
        "# Convert data types to strings for string handling\n",
        "df_1['title_cast'] = df_1.title_cast.astype(str)\n",
        "df_1['plot_keywords'] = df_1.plot_keywords.astype(str)\n",
        "df_1['genres'] = df_1.genres.astype(str)\n",
        "df_1['director'] = df_1.director.astype(str)\n",
        "\n",
        "# Removing spaces between names\n",
        "df_1['director'] = df_1['director'].apply(lambda x: \"\".join(x.lower() for x in x.split()))\n",
        "df_1['title_cast'] = df_1['title_cast'].apply(lambda x: \"\".join(x.lower() for x in x.split()))\n",
        "\n",
        "# Discarding the pipes between the actors' full names and getting only the first three names\n",
        "df_1['title_cast'] = df_1['title_cast'].map(lambda x: x.split('|'))\n",
        "\n",
        "# Discarding the pipes between the plot keywords' and getting only the first five words\n",
        "df_1['plot_keywords'] = df_1['plot_keywords'].map(lambda x: x.split('|'))\n",
        "df_1['plot_keywords'] = df_1['plot_keywords'].apply(lambda x: \" \".join(x))\n",
        "\n",
        "# Discarding the pipes between the genres\n",
        "df_1['genres'] = df_1['genres'].map(lambda x: x.lower().split('|'))\n",
        "df_1['genres'] = df_1['genres'].apply(lambda x: \" \".join(x))\n",
        "\n",
        "df_1.head()"
      ]
    },
    {
      "cell_type": "code",
      "execution_count": 56,
      "id": "db619fde",
      "metadata": {
        "id": "db619fde"
      },
      "outputs": [],
      "source": [
        "\n",
        "import heapq\n",
        "\n",
        "from sklearn.feature_extraction.text import CountVectorizer\n",
        "\n",
        "from sklearn.metrics.pairwise import cosine_similarity\n",
        "\n",
        "from sklearn.preprocessing import StandardScaler"
      ]
    },
    {
      "cell_type": "code",
      "execution_count": 70,
      "id": "69251f3d",
      "metadata": {},
      "outputs": [
        {
          "name": "stdout",
          "output_type": "stream",
          "text": [
            "Index(['movieId', 'title_cast', 'director', 'plot_keywords', 'genres', 'title',\n",
            "       'combined_features'],\n",
            "      dtype='object')\n",
            "['Mr. Troop Mom (2009)', 'Blondie of the Follies (1932)', 'I Love You, Alice B. Toklas! (1968)', 'Michael (2011)', 'Women in Love (1969)']\n"
          ]
        }
      ],
      "source": [
        "print(df_sample.columns)\n",
        "print(df_sample[\"title\"].tolist()[0:5])"
      ]
    },
    {
      "cell_type": "code",
      "execution_count": 77,
      "id": "e9f18364",
      "metadata": {
        "id": "e9f18364"
      },
      "outputs": [
        {
          "ename": "NameError",
          "evalue": "name 'SparsePCA' is not defined",
          "output_type": "error",
          "traceback": [
            "\u001b[1;31m---------------------------------------------------------------------------\u001b[0m",
            "\u001b[1;31mNameError\u001b[0m                                 Traceback (most recent call last)",
            "Cell \u001b[1;32mIn[77], line 22\u001b[0m\n\u001b[0;32m     19\u001b[0m cv_matrix \u001b[38;5;241m=\u001b[39m cv\u001b[38;5;241m.\u001b[39mfit_transform(df[\u001b[38;5;124m\"\u001b[39m\u001b[38;5;124mcombined_features\u001b[39m\u001b[38;5;124m\"\u001b[39m])\n\u001b[0;32m     21\u001b[0m \u001b[38;5;66;03m# Initialize Sparse PCA object\u001b[39;00m\n\u001b[1;32m---> 22\u001b[0m sparse_pca \u001b[38;5;241m=\u001b[39m \u001b[43mSparsePCA\u001b[49m(n_components\u001b[38;5;241m=\u001b[39m\u001b[38;5;241m.\u001b[39m\u001b[38;5;241m.\u001b[39m\u001b[38;5;241m.\u001b[39m)  \u001b[38;5;66;03m# specify the number of components\u001b[39;00m\n\u001b[0;32m     24\u001b[0m \u001b[38;5;66;03m# Fit Sparse PCA model to the data\u001b[39;00m\n\u001b[0;32m     25\u001b[0m sparse_pca\u001b[38;5;241m.\u001b[39mfit(cv_matrix)\n",
            "\u001b[1;31mNameError\u001b[0m: name 'SparsePCA' is not defined"
          ]
        }
      ],
      "source": [
        "from sklearn.feature_extraction.text import CountVectorizer\n",
        "from sklearn.decomposition import PCA\n",
        "import numpy as np\n",
        "import matplotlib.pyplot as plt\n",
        "\n",
        "# Define your features and target variable\n",
        "features = [\"title_cast\", \"director\", \"plot_keywords\", \"genres\"]\n",
        "target = \"title\"\n",
        "\n",
        "# Combine features into a single column\n",
        "# Combine features into a single column\n",
        "df[\"combined_features\"] = df[features].apply(lambda x: \" \".join(map(str, x)), axis=1)\n",
        "\n",
        "\n",
        "# Initialize CountVectorizer\n",
        "cv = CountVectorizer()\n",
        "\n",
        "# Fit and transform the combined features\n",
        "cv_matrix = cv.fit_transform(df[\"combined_features\"])\n",
        "\n",
        "# Initialize Sparse PCA object\n",
        "sparse_pca = SparsePCA(n_components=...)  # specify the number of components\n",
        "\n",
        "# Fit Sparse PCA model to the data\n",
        "sparse_pca.fit(cv_matrix)\n",
        "\n",
        "# Plot line graph of cumulative variance explained\n",
        "plt.plot(np.cumsum(pca.explained_variance_ratio_))\n",
        "plt.xlabel(\"Number of components\")\n",
        "plt.ylabel(\"Cumulative explained variance\")\n",
        "plt.show()\n",
        "\n",
        "# Find the number of components that explain 85% of the variance\n",
        "cumulative_variance_ratio = np.cumsum(pca.explained_variance_ratio_)\n",
        "num_components_85_variance = np.argmax(cumulative_variance_ratio >= 0.85) + 1\n",
        "\n",
        "print(\"Number of components explaining 85% variance:\", num_components_85_variance)"
      ]
    },
    {
      "cell_type": "code",
      "execution_count": 78,
      "id": "1248acf8",
      "metadata": {},
      "outputs": [],
      "source": [
        "import pandas as pd\n",
        "from sklearn.feature_extraction.text import CountVectorizer\n",
        "from sklearn.metrics.pairwise import cosine_similarity\n",
        "from sklearn.decomposition import SparsePCA\n",
        "\n",
        "\n",
        "def recommendations(title, n, sim_score):\n",
        "    \"\"\"\n",
        "    This method returns movies which are similar.\n",
        "\n",
        "    Input:\n",
        "        title: name of the movie to be compared\n",
        "        n: number(quantity) of movies to be returned\n",
        "        sim_score: similarity score\n",
        "    Output:\n",
        "        recommend movies\n",
        "    \"\"\"\n",
        "\n",
        "    recommended_movies = []\n",
        "\n",
        "    # getting the index of the movie that matches the title\n",
        "    idx = indices[indices == title].index[0]\n",
        "\n",
        "    # creating a Series with the similarity scores in descending order\n",
        "    score_series = pd.Series(sim_score[idx]).sort_values(ascending=False)\n",
        "\n",
        "    # getting the indexes of the n most similar movies\n",
        "    top_n_indexes = list(score_series.iloc[1 : n + 1].index)\n",
        "\n",
        "    # populating the list with the titles of the best n matching movies\n",
        "    for i in top_n_indexes:\n",
        "        recommended_movies.append(list(df_1.index)[i])\n",
        "\n",
        "    return recommended_movies"
      ]
    },
    {
      "cell_type": "code",
      "execution_count": 111,
      "metadata": {},
      "outputs": [
        {
          "ename": "NameError",
          "evalue": "name 'sim_score' is not defined",
          "output_type": "error",
          "traceback": [
            "\u001b[1;31m---------------------------------------------------------------------------\u001b[0m",
            "\u001b[1;31mNameError\u001b[0m                                 Traceback (most recent call last)",
            "Cell \u001b[1;32mIn[111], line 3\u001b[0m\n\u001b[0;32m      1\u001b[0m \u001b[38;5;66;03m# Example usage:\u001b[39;00m\n\u001b[0;32m      2\u001b[0m \u001b[38;5;66;03m# Assuming indices and sim_score are defined\u001b[39;00m\n\u001b[1;32m----> 3\u001b[0m recommendations(\u001b[38;5;124m\"\u001b[39m\u001b[38;5;124mThe Dark Knight\u001b[39m\u001b[38;5;124m\"\u001b[39m, \u001b[38;5;241m10\u001b[39m, \u001b[43msim_score\u001b[49m)\n\u001b[0;32m      4\u001b[0m recommendations(\u001b[38;5;124m\"\u001b[39m\u001b[38;5;124mInception\u001b[39m\u001b[38;5;124m\"\u001b[39m, \u001b[38;5;241m10\u001b[39m, sim_score)\n\u001b[0;32m      5\u001b[0m recommendations(\u001b[38;5;124m\"\u001b[39m\u001b[38;5;124mThe Shawshank Redemption\u001b[39m\u001b[38;5;124m\"\u001b[39m, \u001b[38;5;241m10\u001b[39m, sim_score)\n",
            "\u001b[1;31mNameError\u001b[0m: name 'sim_score' is not defined"
          ]
        }
      ],
      "source": [
        "# Example usage:\n",
        "# Assuming indices and sim_score are defined\n",
        "recommendations(\"The Dark Knight\", 10, sim_score)\n",
        "recommendations(\"Inception\", 10, sim_score)\n",
        "recommendations(\"The Shawshank Redemption\", 10, sim_score)"
      ]
    },
    {
      "cell_type": "code",
      "execution_count": 104,
      "id": "3fdf7abf",
      "metadata": {},
      "outputs": [
        {
          "data": {
            "text/html": [
              "<div>\n",
              "<style scoped>\n",
              "    .dataframe tbody tr th:only-of-type {\n",
              "        vertical-align: middle;\n",
              "    }\n",
              "\n",
              "    .dataframe tbody tr th {\n",
              "        vertical-align: top;\n",
              "    }\n",
              "\n",
              "    .dataframe thead th {\n",
              "        text-align: right;\n",
              "    }\n",
              "</style>\n",
              "<table border=\"1\" class=\"dataframe\">\n",
              "  <thead>\n",
              "    <tr style=\"text-align: right;\">\n",
              "      <th></th>\n",
              "      <th>movieId</th>\n",
              "      <th>title_cast</th>\n",
              "      <th>director</th>\n",
              "      <th>plot_keywords</th>\n",
              "      <th>genres</th>\n",
              "      <th>title</th>\n",
              "      <th>liststring</th>\n",
              "      <th>combined_features</th>\n",
              "    </tr>\n",
              "  </thead>\n",
              "  <tbody>\n",
              "    <tr>\n",
              "      <th>24763</th>\n",
              "      <td>130900</td>\n",
              "      <td>[georgelopez, danielabobadilla, janelynch, jul...</td>\n",
              "      <td>thomasiangriffith</td>\n",
              "      <td>fall legal aid paintball climbing</td>\n",
              "      <td>children comedy</td>\n",
              "      <td>Mr. Troop Mom (2009)</td>\n",
              "      <td>georgelopez danielabobadilla janelynch juliabe...</td>\n",
              "      <td>georgelopez danielabobadilla janelynch juliabe...</td>\n",
              "    </tr>\n",
              "    <tr>\n",
              "      <th>21048</th>\n",
              "      <td>110034</td>\n",
              "      <td>[nan]</td>\n",
              "      <td>nan</td>\n",
              "      <td>nan</td>\n",
              "      <td>comedy</td>\n",
              "      <td>Blondie of the Follies (1932)</td>\n",
              "      <td>nan</td>\n",
              "      <td>nan nan nan comedy</td>\n",
              "    </tr>\n",
              "    <tr>\n",
              "      <th>8639</th>\n",
              "      <td>26189</td>\n",
              "      <td>[nan]</td>\n",
              "      <td>nan</td>\n",
              "      <td>nan</td>\n",
              "      <td>comedy</td>\n",
              "      <td>I Love You, Alice B. Toklas! (1968)</td>\n",
              "      <td>nan</td>\n",
              "      <td>nan nan nan comedy</td>\n",
              "    </tr>\n",
              "    <tr>\n",
              "      <th>18521</th>\n",
              "      <td>97423</td>\n",
              "      <td>[michaelfuith, davidrauchenberger, christineka...</td>\n",
              "      <td>kathrinresetarits</td>\n",
              "      <td>pedophile pedophilia child abuse child molesta...</td>\n",
              "      <td>drama thriller</td>\n",
              "      <td>Michael (2011)</td>\n",
              "      <td>michaelfuith davidrauchenberger christinekain ...</td>\n",
              "      <td>michaelfuith davidrauchenberger christinekain ...</td>\n",
              "    </tr>\n",
              "    <tr>\n",
              "      <th>6134</th>\n",
              "      <td>6247</td>\n",
              "      <td>[nan]</td>\n",
              "      <td>nan</td>\n",
              "      <td>nan</td>\n",
              "      <td>drama romance</td>\n",
              "      <td>Women in Love (1969)</td>\n",
              "      <td>nan</td>\n",
              "      <td>nan nan nan drama romance</td>\n",
              "    </tr>\n",
              "  </tbody>\n",
              "</table>\n",
              "</div>"
            ],
            "text/plain": [
              "       movieId                                         title_cast  \\\n",
              "24763   130900  [georgelopez, danielabobadilla, janelynch, jul...   \n",
              "21048   110034                                              [nan]   \n",
              "8639     26189                                              [nan]   \n",
              "18521    97423  [michaelfuith, davidrauchenberger, christineka...   \n",
              "6134      6247                                              [nan]   \n",
              "\n",
              "                director                                      plot_keywords  \\\n",
              "24763  thomasiangriffith                  fall legal aid paintball climbing   \n",
              "21048                nan                                                nan   \n",
              "8639                 nan                                                nan   \n",
              "18521  kathrinresetarits  pedophile pedophilia child abuse child molesta...   \n",
              "6134                 nan                                                nan   \n",
              "\n",
              "                genres                                title  \\\n",
              "24763  children comedy                 Mr. Troop Mom (2009)   \n",
              "21048           comedy        Blondie of the Follies (1932)   \n",
              "8639            comedy  I Love You, Alice B. Toklas! (1968)   \n",
              "18521   drama thriller                       Michael (2011)   \n",
              "6134     drama romance                 Women in Love (1969)   \n",
              "\n",
              "                                              liststring  \\\n",
              "24763  georgelopez danielabobadilla janelynch juliabe...   \n",
              "21048                                                nan   \n",
              "8639                                                 nan   \n",
              "18521  michaelfuith davidrauchenberger christinekain ...   \n",
              "6134                                                 nan   \n",
              "\n",
              "                                       combined_features  \n",
              "24763  georgelopez danielabobadilla janelynch juliabe...  \n",
              "21048                                 nan nan nan comedy  \n",
              "8639                                  nan nan nan comedy  \n",
              "18521  michaelfuith davidrauchenberger christinekain ...  \n",
              "6134                           nan nan nan drama romance  "
            ]
          },
          "execution_count": 104,
          "metadata": {},
          "output_type": "execute_result"
        }
      ],
      "source": [
        "df_sample.head()"
      ]
    },
    {
      "cell_type": "code",
      "execution_count": null,
      "id": "28436aed",
      "metadata": {
        "id": "28436aed"
      },
      "outputs": [],
      "source": [
        "print(sim_score)"
      ]
    },
    {
      "cell_type": "code",
      "execution_count": null,
      "id": "bbdbc23d",
      "metadata": {
        "id": "bbdbc23d"
      },
      "outputs": [],
      "source": [
        "#Method to get recommenations\n",
        "def recommendations(title,n,sim_score = sim_score):\n",
        "    '''\n",
        "    This method returns movies which are similar.\n",
        "\n",
        "    Input:\n",
        "        title: name of the movie to be compared\n",
        "        n: number(quantity) of movies to be returned\n",
        "        sim_core: similarity score\n",
        "    Output:\n",
        "        recommend movies\n",
        "    '''\n",
        "\n",
        "    recommended_movies = []\n",
        "\n",
        "    # gettin the index of the movie that matches the title\n",
        "    idx = indices[indices == title].index[0]\n",
        "\n",
        "    # creating a Series with the similarity scores in descending order\n",
        "    score_series = pd.Series(sim_score[idx]).sort_values(ascending = False)\n",
        "\n",
        "    # getting the indexes of the 10 most similar movies\n",
        "    top_n_indexes = list(score_series.iloc[1:n+1].index)\n",
        "\n",
        "    # populating the list with the titles of the best n matching movies\n",
        "    for i in top_n_indexes:\n",
        "        recommended_movies.append(list(df_1.index)[i])\n",
        "\n",
        "    return recommended_movies"
      ]
    },
    {
      "cell_type": "code",
      "execution_count": null,
      "id": "91284e95",
      "metadata": {
        "id": "91284e95"
      },
      "outputs": [],
      "source": [
        "# Creating a small test dataframe to evaluate our models\n",
        "tests = train.copy()\n",
        "tests.drop(['timestamp'], axis=1, inplace=True)\n",
        "tests = tests.head(20000)\n",
        "\n",
        "# Creating the training data\n",
        "reader = Reader(rating_scale=(0.5, 5))\n",
        "test_data = Dataset.load_from_df(tests[['userId','movieId','rating']], reader)\n",
        "\n",
        "# Compute similarities between users using cosine distance\n",
        "sim_options = {\"name\": \"cosine\",\n",
        "               \"user_based\": True}\n",
        "\n",
        "# Evaluate the model\n",
        "user = KNNWithMeans(sim_options=sim_options)\n",
        "cv = cross_validate(user, test_data, cv=5, measures=['RMSE'], verbose=True)"
      ]
    },
    {
      "cell_type": "code",
      "execution_count": null,
      "id": "de4b1fea",
      "metadata": {
        "id": "de4b1fea"
      },
      "outputs": [],
      "source": [
        "# Compute similarities between items using cosine distance\n",
        "sim_options = {\"name\": \"cosine\",\n",
        "               \"user_based\": False}\n",
        "\n",
        "# Fit the KNNwithmeans algorithm to the training set\n",
        "item_based = KNNWithMeans(sim_options=sim_options)\n",
        "\n",
        "# Evaluate the model\n",
        "cv = cross_validate(item_based, test_data, cv=5, measures=['RMSE'], verbose=True)"
      ]
    },
    {
      "cell_type": "markdown",
      "id": "36109b6f",
      "metadata": {
        "id": "36109b6f"
      },
      "source": [
        "Using IBCF gives us a RMSE score of 1.08 (based on a 2% sample of the train data) which is only a slight improvement on the UBCF method"
      ]
    },
    {
      "cell_type": "markdown",
      "id": "8905cd47",
      "metadata": {
        "id": "8905cd47"
      },
      "source": [
        "# Model Building"
      ]
    },
    {
      "cell_type": "code",
      "execution_count": null,
      "id": "55bc0d4e",
      "metadata": {
        "id": "55bc0d4e"
      },
      "outputs": [],
      "source": [
        "# Loading as Surprise dataframe\n",
        "df_train = train.copy()\n",
        "reader = Reader()\n",
        "# Data selected for model training\n",
        "data = Dataset.load_from_df(df_train[['userId', 'movieId', 'rating']], reader)"
      ]
    },
    {
      "cell_type": "code",
      "execution_count": null,
      "id": "a3efb9a3",
      "metadata": {
        "id": "a3efb9a3"
      },
      "outputs": [],
      "source": [
        "# Data split 99/1\n",
        "trainset, testset = train_test_split(data, test_size=0.01)"
      ]
    },
    {
      "cell_type": "code",
      "execution_count": null,
      "id": "be7c728c",
      "metadata": {
        "id": "be7c728c"
      },
      "outputs": [],
      "source": [
        "df_train.info()"
      ]
    },
    {
      "cell_type": "markdown",
      "id": "42c9d118",
      "metadata": {
        "id": "42c9d118"
      },
      "source": [
        "**Base Algorithm**\n"
      ]
    },
    {
      "cell_type": "code",
      "execution_count": null,
      "id": "bf4cc344",
      "metadata": {
        "id": "bf4cc344"
      },
      "outputs": [],
      "source": [
        "# Base algorithm\n",
        "svd_model = SVD()"
      ]
    },
    {
      "cell_type": "code",
      "execution_count": null,
      "id": "a70daef7",
      "metadata": {
        "id": "a70daef7"
      },
      "outputs": [],
      "source": [
        "# Fitting our trainset\n",
        "svd_model.fit(trainset)"
      ]
    },
    {
      "cell_type": "code",
      "execution_count": null,
      "id": "2ec62ac8",
      "metadata": {
        "id": "2ec62ac8"
      },
      "outputs": [],
      "source": [
        "# Using the 15% testset to make predictions\n",
        "predictions = svd_model.test(testset)\n",
        "predictions\n",
        "\n",
        "test = pd.DataFrame(predictions)"
      ]
    },
    {
      "cell_type": "code",
      "execution_count": null,
      "id": "42f88b89",
      "metadata": {
        "id": "42f88b89"
      },
      "outputs": [],
      "source": [
        "# View the test data\n",
        "test.head()"
      ]
    },
    {
      "cell_type": "code",
      "execution_count": null,
      "id": "bc1c4d1a",
      "metadata": {
        "id": "bc1c4d1a"
      },
      "outputs": [],
      "source": [
        "# We are trying to predict ratings for every userId / movieId pair, we implement the below list comprehension to achieve this.\n",
        "ratings_predictions=[svd_model.predict(row.userId, row.movieId) for _,row in test_df.iterrows()]\n",
        "ratings_predictions"
      ]
    },
    {
      "cell_type": "code",
      "execution_count": null,
      "id": "a3e8daa3",
      "metadata": {
        "id": "a3e8daa3"
      },
      "outputs": [],
      "source": [
        "df_pred=pd.DataFrame(ratings_predictions)\n",
        "df_pred"
      ]
    },
    {
      "cell_type": "code",
      "execution_count": null,
      "id": "38b12a81",
      "metadata": {
        "id": "38b12a81"
      },
      "outputs": [],
      "source": [
        "# Renaming our predictions to original names\n",
        "df_pred=df_pred.rename(columns={'uid':'userId', 'iid':'movieId','est':'rating'})\n",
        "df_pred.drop(['r_ui','details'],axis=1,inplace=True)"
      ]
    },
    {
      "cell_type": "code",
      "execution_count": null,
      "id": "740461e7",
      "metadata": {
        "id": "740461e7"
      },
      "outputs": [],
      "source": [
        "df_pred.head()"
      ]
    },
    {
      "cell_type": "code",
      "execution_count": null,
      "id": "122b86c2",
      "metadata": {
        "id": "122b86c2"
      },
      "outputs": [],
      "source": [
        "# Concatenating userId/movieId into a single Id column.(code has to be run twice to get desired outcome)\n",
        "df_pred['Id']=df_pred.apply(lambda x:'%s_%s' % (x['userId'],x['movieId']),axis=1)\n",
        "df_pred['Id']=df_pred.apply(lambda x:'%s_%s' % (x['userId'],x['movieId']),axis=1)"
      ]
    },
    {
      "cell_type": "code",
      "execution_count": null,
      "id": "82844793",
      "metadata": {
        "id": "82844793"
      },
      "outputs": [],
      "source": [
        "df_pred.head()"
      ]
    },
    {
      "cell_type": "code",
      "execution_count": null,
      "id": "71d21b74",
      "metadata": {
        "id": "71d21b74"
      },
      "outputs": [],
      "source": [
        "# Drop the columns: 'userId' and 'movieId'\n",
        "df_pred.drop(['userId', 'movieId'], inplace=True, axis= 1)"
      ]
    },
    {
      "cell_type": "code",
      "execution_count": null,
      "id": "4f455f79",
      "metadata": {
        "id": "4f455f79"
      },
      "outputs": [],
      "source": [
        "# View the predicted dataset\n",
        "df_pred = df_pred[['Id', 'rating']]"
      ]
    },
    {
      "cell_type": "code",
      "execution_count": null,
      "id": "555dcba3",
      "metadata": {
        "id": "555dcba3"
      },
      "outputs": [],
      "source": [
        "df_pred.head()"
      ]
    },
    {
      "cell_type": "code",
      "execution_count": null,
      "id": "bd5851d7",
      "metadata": {
        "id": "bd5851d7"
      },
      "outputs": [],
      "source": [
        "df_pred.shape"
      ]
    },
    {
      "cell_type": "code",
      "execution_count": null,
      "id": "4c6c8ea9",
      "metadata": {
        "id": "4c6c8ea9"
      },
      "outputs": [],
      "source": [
        "# The submitted base model\n",
        "df_pred.to_csv(\"SVD_model_base.csv\", index=False)"
      ]
    }
  ],
  "metadata": {
    "colab": {
      "provenance": []
    },
    "kernelspec": {
      "display_name": "Python 3 (ipykernel)",
      "language": "python",
      "name": "python3"
    },
    "language_info": {
      "codemirror_mode": {
        "name": "ipython",
        "version": 3
      },
      "file_extension": ".py",
      "mimetype": "text/x-python",
      "name": "python",
      "nbconvert_exporter": "python",
      "pygments_lexer": "ipython3",
      "version": "3.11.2"
    },
    "papermill": {
      "default_parameters": {},
      "duration": 41.154429,
      "end_time": "2023-07-11T20:26:06.576792",
      "environment_variables": {},
      "exception": true,
      "input_path": "__notebook__.ipynb",
      "output_path": "__notebook__.ipynb",
      "parameters": {},
      "start_time": "2023-07-11T20:25:25.422363",
      "version": "2.4.0"
    }
  },
  "nbformat": 4,
  "nbformat_minor": 5
}
